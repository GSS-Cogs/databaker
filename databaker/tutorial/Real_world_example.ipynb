{
 "cells": [
  {
   "cell_type": "markdown",
   "metadata": {
    "collapsed": true
   },
   "source": [
    "This is a worked example about how we could use the framework for real work\n",
    "The cells are going to repeat in content, but you should think about actually \n",
    "doing it all in one cell, progressively hacking the code towards the right result"
   ]
  },
  {
   "cell_type": "code",
   "execution_count": 25,
   "metadata": {
    "collapsed": false
   },
   "outputs": [
    {
     "name": "stdout",
     "output_type": "stream",
     "text": [
      "Loading ott.xls which has size 193536 bytes\n",
      "Table names: ['Index', 'Table 1', 'Table 2', 'Table 3', 'Table 4', 'Table 5']\n"
     ]
    }
   ],
   "source": [
    "from databaker.framework import *\n",
    "inputfile = \"ott.xls\"\n",
    "outputfile = \"ott.csv\"\n",
    "previewfile = \"preview.html\"\n",
    "\n",
    "tabs = loadxlstabs(inputfile)\n"
   ]
  },
  {
   "cell_type": "code",
   "execution_count": 26,
   "metadata": {
    "collapsed": false
   },
   "outputs": [
    {
     "data": {
      "text/plain": [
       "dict_keys(['Table 5', 'Table 4', 'Table 1', 'Table 3', 'Table 2'])"
      ]
     },
     "execution_count": 26,
     "metadata": {},
     "output_type": "execute_result"
    }
   ],
   "source": [
    "# throw away the tabs we don't need and maybe sort those we like into lookup dicts\n",
    "tabs = list(filter((lambda tab: tab.name != \"Index\"), tabs))   # needs to be a list() or the generator gets consumed\n",
    "dtabs = dict((tab.name, tab)  for tab in tabs)  \n",
    "dtabs.keys()"
   ]
  },
  {
   "cell_type": "code",
   "execution_count": 27,
   "metadata": {
    "collapsed": false
   },
   "outputs": [
    {
     "name": "stdout",
     "output_type": "stream",
     "text": [
      "tablepart 'Table 3' written #injblock1009\n"
     ]
    },
    {
     "data": {
      "text/html": [
       "Written to file: <a href='preview.html' target='_blank'>preview.html</a><br>"
      ],
      "text/plain": [
       "/home/goatchurch/sensiblecode/src/databaker/databaker/tutorial/preview.html"
      ]
     },
     "metadata": {},
     "output_type": "display_data"
    }
   ],
   "source": [
    "# This has 5 tables, some pages of which have a lot of similarity (eg Table2=Table4)\n",
    "# It is useful to work in terms of functions that we call with a table, because we can \n",
    "# easily hack which function applies to which table in a small set of code at the bottom\n",
    "\n",
    "# Start with some processing that applies to most of the pages\n",
    "def tabprocess(tab):\n",
    "    yearset = tab.excel_ref(\"A1\").fill(DOWN).is_not_blank().is_number()\n",
    "    monthset = tab.excel_ref(\"B1\").fill(DOWN).is_not_blank()\n",
    "    savepreviewhtml([yearset, monthset], previewfile)\n",
    "\n",
    "tabprocess(dtabs[\"Table 3\"])\n"
   ]
  },
  {
   "cell_type": "code",
   "execution_count": 28,
   "metadata": {
    "collapsed": false
   },
   "outputs": [
    {
     "name": "stdout",
     "output_type": "stream",
     "text": [
      "{<A50 'Latest three months'>}\n",
      "{<A50 'Latest three months'>}\n",
      "{<A50 'Latest three months'>}\n",
      "{<A50 'Latest three months'>}\n",
      "{<A51 'Latest three months'>}\n"
     ]
    }
   ],
   "source": [
    "# There is a bottom panel on all of the tabs, which we will want to subtract out using this statement\n",
    "#    tab.filter(contains_string(\"Latest three months\")).expand(DOWN).expand(RIGHT) \n",
    "# It would be nice to have 5 screens to throw up all the previews on.  But we can also use code to \n",
    "# check our assumptions about the contents of these tables\n",
    "for tab in tabs:\n",
    "    print(tab.filter(contains_string(\"Latest three months\")))"
   ]
  },
  {
   "cell_type": "code",
   "execution_count": 29,
   "metadata": {
    "collapsed": false
   },
   "outputs": [
    {
     "name": "stdout",
     "output_type": "stream",
     "text": [
      "tablepart 'Table 3' written #injblock1010\n"
     ]
    },
    {
     "data": {
      "text/html": [
       "Written to file: <a href='preview.html' target='_blank'>preview.html</a><br>"
      ],
      "text/plain": [
       "/home/goatchurch/sensiblecode/src/databaker/databaker/tutorial/preview.html"
      ]
     },
     "metadata": {},
     "output_type": "display_data"
    }
   ],
   "source": [
    "# That looks pretty consistent.  We can build it into our processing\n",
    "def tabprocess(tab):\n",
    "    bottomblock = tab.filter(contains_string(\"Latest three months\")).expand(DOWN).expand(RIGHT)\n",
    "    yearset = tab.excel_ref(\"A1\").fill(DOWN).is_not_blank().is_number() - bottomblock\n",
    "    monthset = tab.excel_ref(\"B1\").fill(DOWN).is_not_blank() - bottomblock\n",
    "    obs = monthset.by_index(1).fill(RIGHT).expand(DOWN) - bottomblock\n",
    "    savepreviewhtml([yearset, monthset, obs], previewfile)\n",
    "\n",
    "tabprocess(dtabs[\"Table 3\"])\n"
   ]
  },
  {
   "cell_type": "code",
   "execution_count": 30,
   "metadata": {
    "collapsed": false
   },
   "outputs": [
    {
     "name": "stdout",
     "output_type": "stream",
     "text": [
      "{<Q2 'thousands'>}\n",
      "set()\n",
      "{<M2 'thousands'>}\n",
      "{<N51 0.0>, <N48 0.0>, <N49 0.0>, <N52 0.0>, <N45 0.0>}\n",
      "{<Q2 'thousands'>}\n",
      "set()\n",
      "{<M2 'thousands'>}\n",
      "{<N51 0.0>, <N48 0.0>, <N49 0.0>, <N52 0.0>, <N45 0.0>}\n",
      "{<L2 '£ million'>}\n",
      "set()\n"
     ]
    }
   ],
   "source": [
    "# There's some junk on the right hand side of the table sometimes.  \n",
    "# We can find it, print it, and remove it\n",
    "for tab in tabs:\n",
    "    cornertr = tab.regex(\"thousands|.*million\")\n",
    "    print(cornertr)\n",
    "    print(cornertr.fill(RIGHT).fill(DOWN).is_not_blank())"
   ]
  },
  {
   "cell_type": "code",
   "execution_count": 31,
   "metadata": {
    "collapsed": false
   },
   "outputs": [],
   "source": [
    "# You can see there is nothing there but some errant 0s that got accidentally left in the sheet\n",
    "# we should see what they are and set some asserts that match them so that \n",
    "# we don't make something that unintentionally filters out something later on in the day\n",
    "\n",
    "# If one of these asserts fires, it should be easy to insert a print statement or a \n",
    "# call to savepreviewhtml() to find out what's there\n",
    "for tab in tabs:\n",
    "    cornertr = tab.regex(\"thousands|.*million\")\n",
    "    cornertr.assert_one()\n",
    "    rightjunk = cornertr.fill(RIGHT).fill(DOWN).is_not_blank()\n",
    "    assert len(rightjunk) < 10\n",
    "    assert set(r.value  for r in rightjunk).issubset({0.0})  # only zeros or nothing\n"
   ]
  },
  {
   "cell_type": "code",
   "execution_count": 32,
   "metadata": {
    "collapsed": false
   },
   "outputs": [
    {
     "name": "stdout",
     "output_type": "stream",
     "text": [
      "Seasonal adjustment rows:\n",
      "[<C6 'NSA'>, <E6 'SA'>, <G6 'NSA'>, <I6 'NSA'>, <K6 'NSA'>, <M6 'NSA'>, <O6 'NSA'>, <Q6 'NSA'>]\n",
      "[<C6 'NSA'>, <E6 'SA'>, <G6 'NSA'>, <I6 'NSA'>, <K6 'NSA'>, <M6 'NSA'>]\n",
      "[<C6 'NSA'>, <E6 'SA'>, <G6 'NSA'>, <I6 'NSA'>, <K6 'NSA'>, <M6 'NSA'>, <O6 'NSA'>, <Q6 'NSA'>]\n",
      "[<C6 'NSA'>, <E6 'SA'>, <G6 'NSA'>, <I6 'NSA'>, <K6 'NSA'>, <M6 'NSA'>]\n",
      "[<C7 'NSA'>, <E7 'SA'>, <G7 'NSA'>, <I7 'SA'>, <K7 'NSA'>, <L7 'SA'>]\n",
      "All visits:\n",
      "{<C3 'All Visits'>}\n",
      "{<C3 'All Visits'>}\n",
      "{<C3 'All Visits'>}\n",
      "{<C3 'All Visits'>}\n",
      "set()\n"
     ]
    }
   ],
   "source": [
    "# Now we have to work on the headings.  We will work across all the tables to see if we \n",
    "# can get them all done at once\n",
    "print(\"Seasonal adjustment rows:\")\n",
    "for tab in tabs:\n",
    "    monthset = tab.excel_ref(\"B1\").fill(DOWN).is_not_blank()\n",
    "    sarow = monthset.by_index(1).shift(UP).fill(RIGHT).is_not_blank()\n",
    "    print(sorted(sarow.unordered_cells, key=lambda c:(c.y, c.x)))   # this nonsense to get the list in order\n",
    "\n",
    "print(\"All visits:\")\n",
    "for tab in tabs:\n",
    "    top = tab.regex(\"All Visits\")\n",
    "    print(top)"
   ]
  },
  {
   "cell_type": "code",
   "execution_count": 33,
   "metadata": {
    "collapsed": false
   },
   "outputs": [
    {
     "name": "stdout",
     "output_type": "stream",
     "text": [
      "all visits found on 2 sarow on 5\n",
      "all visits found on 2 sarow on 5\n",
      "all visits found on 2 sarow on 5\n",
      "all visits found on 2 sarow on 5\n"
     ]
    }
   ],
   "source": [
    "# We can see that Table5 is a special case, so maybe we should work on the first 4 tables as a group\n",
    "tabs4 = list(filter(lambda tab: tab.name != \"Table 5\", tabs))\n",
    "tabs4.sort(key=lambda tab: tab.name)\n",
    "\n",
    "# this looks for the consistency of the rows\n",
    "for tab in tabs4:\n",
    "    monthset = tab.excel_ref(\"B1\").fill(DOWN).is_not_blank()\n",
    "    toprowL = tab.regex(\"All Visits\")\n",
    "    sarowL = monthset.by_index(1).shift(UP)\n",
    "    print(\"all visits found on\", toprowL.y, \"sarow on\", sarowL.y)\n",
    "    \n",
    "\n",
    "    "
   ]
  },
  {
   "cell_type": "code",
   "execution_count": 34,
   "metadata": {
    "collapsed": false
   },
   "outputs": [
    {
     "name": "stdout",
     "output_type": "stream",
     "text": [
      "[<C3 'All Visits'>, <G3 'Area of residence'>]\n",
      "     [<G4 'North America'>, <I4 'Europe'>, <K4 'of which'>, <Q4 'Other countries'>]\n",
      "     [<K5 'European Union'>, <M5 'Other EU'>, <O5 'EU15'>]\n",
      "     [<C6 'NSA'>, <E6 'SA'>, <G6 'NSA'>, <I6 'NSA'>, <K6 'NSA'>, <M6 'NSA'>, <O6 'NSA'>, <Q6 'NSA'>]\n",
      "[<C3 'All Visits'>, <G3 'Purpose'>]\n",
      "     [<G4 'Holiday'>, <I4 'Business'>, <K4 'Visiting friends or relatives'>, <M4 'Miscellaneous'>]\n",
      "     []\n",
      "     [<C6 'NSA'>, <E6 'SA'>, <G6 'NSA'>, <I6 'NSA'>, <K6 'NSA'>, <M6 'NSA'>]\n",
      "[<C3 'All Visits'>, <G3 'Area of residence'>]\n",
      "     [<G4 'North America'>, <I4 'Europe'>, <K4 'of which'>, <Q4 'Other countries'>]\n",
      "     [<K5 'European Union'>, <M5 'Other EU'>, <O5 'EU15'>]\n",
      "     [<C6 'NSA'>, <E6 'SA'>, <G6 'NSA'>, <I6 'NSA'>, <K6 'NSA'>, <M6 'NSA'>, <O6 'NSA'>, <Q6 'NSA'>]\n",
      "[<C3 'All Visits'>, <G3 'Purpose'>]\n",
      "     [<G4 'Holiday'>, <I4 'Business'>, <K4 'Visiting friends or relatives'>, <M4 'Miscellaneous'>]\n",
      "     []\n",
      "     [<C6 'NSA'>, <E6 'SA'>, <G6 'NSA'>, <I6 'NSA'>, <K6 'NSA'>, <M6 'NSA'>]\n"
     ]
    }
   ],
   "source": [
    "# We can then add in assertions to check they are where they are\n",
    "# This is equivalent to lifting by an explicit excel_ref cell in the first \n",
    "# place and hoping for the best.  But it is self-checking\n",
    "\n",
    "# (In the long term, these asserts may help to identify the spreadsheet, by running \n",
    "# every recipe on every spreadsheet until one of them has no assertions)\n",
    "for tab in tabs4:\n",
    "    monthset = tab.excel_ref(\"B1\").fill(DOWN).is_not_blank()\n",
    "    toprowL = tab.regex(\"All Visits\")\n",
    "    sarowL = monthset.by_index(1).shift(UP)\n",
    "    assert toprowL.y == 2\n",
    "    assert sarowL.y == 5\n",
    "\n",
    "    row3L = toprowL.shift(DOWN)\n",
    "    row4L = row3L.shift(DOWN)\n",
    "    \n",
    "    print(sorted(toprowL.expand(RIGHT).is_not_blank().unordered_cells, key=lambda c:(c.y, c.x)))\n",
    "    print(\"    \", sorted(row3L.expand(RIGHT).is_not_blank().unordered_cells, key=lambda c:(c.y, c.x)))\n",
    "    print(\"    \", sorted(row4L.expand(RIGHT).is_not_blank().unordered_cells, key=lambda c:(c.y, c.x)))\n",
    "    print(\"    \", sorted(sarowL.expand(RIGHT).is_not_blank().unordered_cells, key=lambda c:(c.y, c.x)))\n",
    "    \n",
    "    \n"
   ]
  },
  {
   "cell_type": "code",
   "execution_count": 35,
   "metadata": {
    "collapsed": false
   },
   "outputs": [
    {
     "name": "stdout",
     "output_type": "stream",
     "text": [
      "tablepart 'Table 1' written #injblock1011\n",
      "javascript calculated\n"
     ]
    },
    {
     "data": {
      "text/html": [
       "Written to file: <a href='preview.html' target='_blank'>preview.html</a><br>"
      ],
      "text/plain": [
       "/home/goatchurch/sensiblecode/src/databaker/databaker/tutorial/preview.html"
      ]
     },
     "metadata": {},
     "output_type": "display_data"
    }
   ],
   "source": [
    "# what if we combined these headings into different levels, and looked them up?\n",
    "tab = tabs4[0]\n",
    "toprowL = tab.regex(\"All Visits\")\n",
    "row3L = toprowL.shift(DOWN).expand(RIGHT).is_not_blank()\n",
    "row4L = row3L.shift(DOWN).expand(RIGHT).is_not_blank()\n",
    "headings = toprowL | row3L | row4L\n",
    "\n",
    "# make the obs set\n",
    "bottomblock = tab.filter(contains_string(\"Latest three months\")).expand(DOWN).expand(RIGHT)\n",
    "monthset = tab.excel_ref(\"B1\").fill(DOWN).is_not_blank() - bottomblock\n",
    "cornertr = tab.regex(\"thousands|.*million\")\n",
    "cornertr.assert_one()\n",
    "rightjunk = cornertr.fill(RIGHT).fill(DOWN).is_not_blank()\n",
    "obs = monthset.by_index(1).fill(RIGHT).expand(DOWN) - bottomblock - rightjunk\n",
    "obs = obs.is_not_blank()\n",
    "\n",
    "# make the heading and look up\n",
    "hdim = HDim(headings, \"heading\", DIRECTLY, UP)\n",
    "savepreviewhtml(ConversionSegment(tab, [hdim], obs), previewfile)\n"
   ]
  },
  {
   "cell_type": "code",
   "execution_count": 36,
   "metadata": {
    "collapsed": false
   },
   "outputs": [
    {
     "name": "stdout",
     "output_type": "stream",
     "text": [
      "tablepart 'Table 1' written #injblock1012\n",
      "javascript calculated\n"
     ]
    },
    {
     "data": {
      "text/html": [
       "Written to file: <a href='preview.html' target='_blank'>preview.html</a><br>"
      ],
      "text/plain": [
       "/home/goatchurch/sensiblecode/src/databaker/databaker/tutorial/preview.html"
      ]
     },
     "metadata": {},
     "output_type": "display_data"
    },
    {
     "name": "stdout",
     "output_type": "stream",
     "text": [
      "{'Europe', 'All Visits', 'Other EU', 'EU15', 'Other countries', 'North America', 'European Union'}\n"
     ]
    }
   ],
   "source": [
    "# This works pretty well, except the first SA column has no heading\n",
    "# But that's okay, because we can add a new heading into it and map its value over\n",
    "toprowL1 = toprowL.shift(RIGHT).shift(RIGHT)\n",
    "headings = toprowL | row3L | row4L | toprowL1\n",
    "cvr = { toprowL1._cell: toprowL.value }  # map the value of the cell from the other cell\n",
    "hdim = HDim(headings, \"heading\", DIRECTLY, UP, cellvalueoverride=cvr)\n",
    "\n",
    "savepreviewhtml(ConversionSegment(tab, [hdim], obs), previewfile)\n",
    "\n",
    "# check the headings we now get\n",
    "print(set(hdim.cellvalobs(ob)[1]  for ob in obs))\n",
    "    \n"
   ]
  },
  {
   "cell_type": "code",
   "execution_count": 37,
   "metadata": {
    "collapsed": false
   },
   "outputs": [],
   "source": [
    "# Using a set() on the headings removes the duplicates and shows we have a good lookup system\n",
    "# We could even assert the lookups here.\n",
    "# This isn't perfect, because we are looking everything up many times, but it's one way to \n",
    "# do the validation\n",
    "for ob in obs:\n",
    "    assert hdim.cellvalobs(ob)[1] in {'All Visits', 'North America', 'European Union', 'Other countries', 'Other EU', 'Europe', 'EU15'}\n",
    "\n",
    "\n"
   ]
  },
  {
   "cell_type": "code",
   "execution_count": 38,
   "metadata": {
    "collapsed": false
   },
   "outputs": [
    {
     "name": "stdout",
     "output_type": "stream",
     "text": [
      "{'June¹', 'Jul', 'Nov', 'May', 'Feb', 'Oct', 'Apr', 'Sep', 'Dec', 'July', 'Sept', 'Jun', 'Apr¹', 'Jan†', 'May¹', 'June', 'Aug', 'Jan', 'Mar'}\n"
     ]
    }
   ],
   "source": [
    "# The months list has some junk in it in terms of footnotes:\n",
    "print(set(m.value  for m in monthset))"
   ]
  },
  {
   "cell_type": "code",
   "execution_count": 39,
   "metadata": {
    "collapsed": false
   },
   "outputs": [
    {
     "name": "stdout",
     "output_type": "stream",
     "text": [
      "tablepart 'Table 1' written #injblock1013\n",
      "javascript calculated\n"
     ]
    },
    {
     "data": {
      "text/html": [
       "Written to file: <a href='preview.html' target='_blank'>preview.html</a><br>"
      ],
      "text/plain": [
       "/home/goatchurch/sensiblecode/src/databaker/databaker/tutorial/preview.html"
      ]
     },
     "metadata": {},
     "output_type": "display_data"
    },
    {
     "name": "stdout",
     "output_type": "stream",
     "text": [
      "\n"
     ]
    },
    {
     "data": {
      "text/plain": [
       "1"
      ]
     },
     "execution_count": 39,
     "metadata": {},
     "output_type": "execute_result"
    }
   ],
   "source": [
    "import re\n",
    "mcvr = dict((m._cell, re.match(\"([A-Za-z]+)\", m.value).group(1))  for m in monthset)\n",
    "hdimmonth = HDim(monthset, \"Month\", DIRECTLY, LEFT, cellvalueoverride=mcvr)\n",
    "\n",
    "cs = ConversionSegment(tab, [hdim, hdimmonth], obs)\n",
    "savepreviewhtml(cs, previewfile)\n",
    "cs.topandas()\n",
    "1"
   ]
  },
  {
   "cell_type": "code",
   "execution_count": null,
   "metadata": {
    "collapsed": true
   },
   "outputs": [],
   "source": []
  },
  {
   "cell_type": "code",
   "execution_count": 40,
   "metadata": {
    "collapsed": false
   },
   "outputs": [
    {
     "name": "stdout",
     "output_type": "stream",
     "text": [
      "tablepart 'Table 3' written #injblock1014\n",
      "javascript calculated\n"
     ]
    },
    {
     "data": {
      "text/html": [
       "Written to file: <a href='preview.html' target='_blank'>preview.html</a><br>"
      ],
      "text/plain": [
       "/home/goatchurch/sensiblecode/src/databaker/databaker/tutorial/preview.html"
      ]
     },
     "metadata": {},
     "output_type": "display_data"
    }
   ],
   "source": [
    "def tabcommon(tab):\n",
    "    bottomblock = tab.filter(contains_string(\"Latest three months\")).expand(DOWN).expand(RIGHT)\n",
    "    monthset = tab.excel_ref(\"B1\").fill(DOWN).is_not_blank() - bottomblock\n",
    "    cornertr = tab.regex(\"thousands|.*million\")\n",
    "    cornertr.assert_one()\n",
    "    rightjunk = cornertr.fill(RIGHT).fill(DOWN).is_not_blank()\n",
    "    assert len(rightjunk) < 10\n",
    "    assert set(r.value  for r in rightjunk).issubset({0.0})  # only zeros or nothing\n",
    "    obs = monthset.by_index(1).fill(RIGHT).expand(DOWN) - bottomblock - rightjunk\n",
    "    obs = obs.is_not_blank()    \n",
    "    sarowL = monthset.by_index(1).shift(UP)\n",
    "\n",
    "    yearset = tab.excel_ref(\"A1\").fill(DOWN).is_not_blank().is_number() - bottomblock\n",
    "    monthset = tab.excel_ref(\"B1\").fill(DOWN).is_not_blank() - bottomblock\n",
    "    mcvr = dict((m._cell, re.match(\"([A-Za-z]+)\", m.value).group(1))  for m in monthset)\n",
    "    \n",
    "    return [ HDim(yearset, \"Year\", CLOSEST, ABOVE), \n",
    "             HDim(monthset, \"Month\", DIRECTLY, LEFT, cellvalueoverride=mcvr), \n",
    "             HDim(sarowL.fill(RIGHT).is_not_blank(), \"Seasonal adjustment\", DIRECTLY, UP)\n",
    "           ], obs\n",
    "\n",
    "def proctabs4(tab):\n",
    "    dimensions, obs = tabcommon(tab)\n",
    "    toprowL = tab.regex(\"All Visits\")\n",
    "    row3L = toprowL.shift(DOWN).expand(RIGHT).is_not_blank()\n",
    "    row4L = row3L.shift(DOWN).expand(RIGHT).is_not_blank()\n",
    "    headings = toprowL | row3L | row4L\n",
    "    toprowL1 = toprowL.shift(RIGHT).shift(RIGHT)\n",
    "    headings = toprowL | row3L | row4L | toprowL1\n",
    "    cvr = { toprowL1._cell: toprowL.value }  # map the value of the cell from the other cell\n",
    "    hdim = HDim(headings, \"heading\", DIRECTLY, UP, cellvalueoverride=cvr)\n",
    "    dimensions.append(hdim)\n",
    "    return ConversionSegment(tab, dimensions, obs)\n",
    "\n",
    "cs = proctabs4(dtabs[\"Table 3\"])\n",
    "savepreviewhtml(cs, previewfile)\n",
    "    "
   ]
  },
  {
   "cell_type": "code",
   "execution_count": 41,
   "metadata": {
    "collapsed": false
   },
   "outputs": [
    {
     "name": "stdout",
     "output_type": "stream",
     "text": [
      "writing 4 conversion segments into /home/goatchurch/sensiblecode/src/databaker/databaker/tutorial/ott.csv\n",
      "conversionwrite segment size 336 table 'Table 1'; \n",
      "conversionwrite segment size 252 table 'Table 2'; \n",
      "conversionwrite segment size 336 table 'Table 3'; \n",
      "conversionwrite segment size 252 table 'Table 4'; \n"
     ]
    }
   ],
   "source": [
    "# You can preview each of these cases, and then do the output file too\n",
    "conversionsegments = [ proctabs4(tab)  for tab in tabs4 ]\n",
    "writetechnicalCSV(outputfile, conversionsegments)\n"
   ]
  },
  {
   "cell_type": "code",
   "execution_count": 42,
   "metadata": {
    "collapsed": true
   },
   "outputs": [],
   "source": [
    "# And we're done"
   ]
  },
  {
   "cell_type": "code",
   "execution_count": 43,
   "metadata": {
    "collapsed": false
   },
   "outputs": [],
   "source": [
    "# Further notes:\n",
    "# There may be some wrinkles as to how we attach these elements and override them. \n",
    "#   we can change the syntax to fit with the way things work\n",
    "# We need more/easier helper code functions for making sure all lookups have happened and \n",
    "#   and finding where they are missing\n",
    "# Also some explicit lookup matching of header values into known sets of keys that are used downstream\n",
    "# Leave all tests and asserts in place\n",
    "# HTML preview should show the over-ridden values and ones where matching has failed a test (eg \n",
    "#  it's looked up a blank)\n"
   ]
  },
  {
   "cell_type": "code",
   "execution_count": 44,
   "metadata": {
    "collapsed": false
   },
   "outputs": [
    {
     "name": "stdout",
     "output_type": "stream",
     "text": [
      "\n"
     ]
    },
    {
     "data": {
      "text/plain": [
       "<matplotlib.axes._subplots.AxesSubplot at 0x7fea84beec88>"
      ]
     },
     "execution_count": 44,
     "metadata": {},
     "output_type": "execute_result"
    },
    {
     "data": {
      "image/png": "[encoded data removed]",
      "text/plain": [
       "<matplotlib.figure.Figure at 0x7fea82d8d7b8>"
      ]
     },
     "metadata": {},
     "output_type": "display_data"
    }
   ],
   "source": [
    "%matplotlib inline\n",
    "\n",
    "# The magic of pandas control would mean we should be able to trivially throw out \n",
    "# plots of things, unstacked and separated out (I don't know how, but I'm told it's easy)\n",
    "\n",
    "df = conversionsegments[0].topandas()\n",
    "df.plot()\n",
    "\n"
   ]
  },
  {
   "cell_type": "markdown",
   "metadata": {
    "collapsed": true
   },
   "source": [
    "If you like, proceed to the [reference examples](tutorial_reference.ipynb)."
   ]
  }
 ],
 "metadata": {
  "kernelspec": {
   "display_name": "Python 3",
   "language": "python",
   "name": "python3"
  },
  "language_info": {
   "codemirror_mode": {
    "name": "ipython",
    "version": 3
   },
   "file_extension": ".py",
   "mimetype": "text/x-python",
   "name": "python",
   "nbconvert_exporter": "python",
   "pygments_lexer": "ipython3",
   "version": "3.5.2"
  }
 },
 "nbformat": 4,
 "nbformat_minor": 1
}
