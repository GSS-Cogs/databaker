{
 "cells": [
  {
   "cell_type": "markdown",
   "metadata": {},
   "source": [
    "# `nbconvert`\n",
    "\n",
    "`nbconvert` is a Jupyter command line tool that can convert Jupyter notebooks to other output formats, and also execute them before converting. It's very useful for logging \"blind\" processing of a notebook."
   ]
  },
  {
   "cell_type": "markdown",
   "metadata": {},
   "source": [
    "You can use it like:\n",
    "\n",
    "```sh\n",
    "jupyter nbconvert --to html --execute my_notebook.ipynb\n",
    "```\n",
    "\n",
    "which will execute the input cells in `my_notebook.ipynb` and save the entire output as HTML.\n",
    "\n",
    "[Full documentation](https://nbconvert.readthedocs.io) is available from the developers."
   ]
  },
  {
   "cell_type": "markdown",
   "metadata": {},
   "source": [
    "## Input filename wrangling\n",
    "\n",
    "Unfortunately, `nbconvert` is a little limited to implement the `bake.py` usage we used to have in Databaker where you could specify filenames as it does not support passing in arguments to the notebook, e.g. so that you can change a variable, such as filename.\n",
    "\n",
    "So, we've written a wrapper, `databaker_nbconvert` around this that allows you to specify a notebook filename and an input filename. **The notebook and the input file should be in the same directory.** The notebook filename you specify can be an absolute path, but the input file should be just the filename without any path. Simplest way is to just stick everything in one directory and run `databaker_nbconvert` from there; it should work as a standalone command.\n",
    "\n",
    "Here's a very simple demo that shows this in action. We're not doing any processing of the spreadsheets here, but is only designed to show how you could switch a filename at the command line, while still being able to specify the filename within the notebook for development."
   ]
  },
  {
   "cell_type": "code",
   "execution_count": null,
   "metadata": {
    "collapsed": false
   },
   "outputs": [],
   "source": [
    "import databaker.framework"
   ]
  },
  {
   "cell_type": "markdown",
   "metadata": {},
   "source": [
    "`databaker.framework.DATABAKER_INPUT_FILE` is just a string of the filename to use. we specify the input filename that we're using within this notebook. By default, this is the file that will get used."
   ]
  },
  {
   "cell_type": "code",
   "execution_count": null,
   "metadata": {
    "collapsed": false
   },
   "outputs": [],
   "source": [
    "databaker.framework.DATABAKER_INPUT_FILE = 'example1.xls'"
   ]
  },
  {
   "cell_type": "markdown",
   "metadata": {},
   "source": [
    "`getinputfilename()` is a function that gives you back the spreadsheet filename that we've passed to `databaker_nbconvert` or, if that's not the case, it gives us back the `DATABAKER_INPUT_FILE` value specified above.\n",
    "\n",
    "This way, we can leave `f` unspecified and allows us to do the following:\n",
    "\n",
    "* if we process the notebook here, then we will process `example1.xls`.\n",
    "\n",
    "* if we process with `databaker_nbconvert` with a specified spreadsheet filename, then we override the `example1.xls` here with whichever filename we specified to `databaker_nbconvert`.\n",
    "\n",
    "(This is actually a little bit of a hack that uses operating system environment variables to pass the values in, and we wrap this in another Python script, so this is transparent to the user, and also simplifies how this works across Windows and Linux.) "
   ]
  },
  {
   "cell_type": "code",
   "execution_count": null,
   "metadata": {
    "collapsed": false
   },
   "outputs": [],
   "source": [
    "f = databaker.framework.getinputfilename()\n",
    "print(f)"
   ]
  },
  {
   "cell_type": "markdown",
   "metadata": {},
   "source": [
    "Below, you'll see the loaded XLS details. If you process this notebook with `databaker_nbconvert` and enter `ott.xls` as a spreadsheet filename, e.g.\n",
    "\n",
    "```sh\n",
    "databaker_nbconvert \"nbconvert demo.ipynb\" \"ott.xls\"\n",
    "```\n",
    "\n",
    "you'll see that's what gets loaded, not the `example1.xls` we specified above (but is ignored)."
   ]
  },
  {
   "cell_type": "code",
   "execution_count": null,
   "metadata": {
    "collapsed": false
   },
   "outputs": [],
   "source": [
    "databaker.framework.loadxlstabs(f)"
   ]
  }
 ],
 "metadata": {
  "kernelspec": {
   "display_name": "Python 3",
   "language": "python",
   "name": "python3"
  },
  "language_info": {
   "codemirror_mode": {
    "name": "ipython",
    "version": 3
   },
   "file_extension": ".py",
   "mimetype": "text/x-python",
   "name": "python",
   "nbconvert_exporter": "python",
   "pygments_lexer": "ipython3",
   "version": "3.5.2"
  }
 },
 "nbformat": 4,
 "nbformat_minor": 1
}
