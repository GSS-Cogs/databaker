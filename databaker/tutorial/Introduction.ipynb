{
 "cells": [
  {
   "cell_type": "markdown",
   "metadata": {},
   "source": [
    "# Introduction\n",
    "\n",
    "[Databaker](https://github.com/sensiblecodeio/databaker) is an Open Source Python library for converting semi-structured spreadsheets into computer-friendly datatables.  The resulting data can be stored into [Pandas data tables](http://pandas.pydata.org/) or the ONS-specific WDA format.\n",
    "\n",
    "The system is embedded into the interactive programming environment called [Jupyter](http://jupyter.org/) for fast prototyping and development, and depends for its spreadsheet processing on [messytables](http://messytables.readthedocs.io/en/latest/) and [xypath](https://github.com/sensiblecodeio/xypath).\n",
    "\n",
    "Install it with the command:\n",
    "\n",
    "> `pip3 install databaker`\n",
    "\n",
    "Your main interaction with databaker is through the Jupyter notebook interface.  There are many tutorials to show you how to master this system elsewhere on-line.  \n",
    "\n",
    "Once you've have a working program to converts a particular spreadsheet style into the output which you want, there are ways to rerun the notebook on other spreadsheets externally or from the command line.  "
   ]
  },
  {
   "cell_type": "markdown",
   "metadata": {},
   "source": [
    "# Example\n",
    "\n",
    "Although Databaker can handle spreadsheets of any size, here is a tiny example from the tutorials to illustrate what it does."
   ]
  },
  {
   "cell_type": "code",
   "execution_count": 1,
   "metadata": {
    "collapsed": false
   },
   "outputs": [
    {
     "data": {
      "text/html": [
       "<div id=\"injblock1001\">\n",
       "<style>\n",
       "table.ex, table.exkey { border: thin black solid }\n",
       "table.ex td, table.ex tr { border: none }\n",
       "table.ex td:hover { border: thin blue solid }\n",
       "table.ex td.excOBS:hover { border: thin red solid }\n",
       "table.ex td.selected { border: thick red solid }\n",
       "</style>\n",
       "\n",
       "\n",
       "\n",
       "<table class=\"ex\">\n",
       "<caption style=\"text-align:center; padding:0px; caption-side:bottom\">beatles</caption>\n",
       "<tr><td title=\"0 0\">Date</td><td title=\"1 0\">2014.0</td><td title=\"2 0\"></td><td title=\"3 0\"></td></tr>\n",
       "<tr><td title=\"0 1\"></td><td title=\"1 1\"></td><td title=\"2 1\"></td><td title=\"3 1\"></td></tr>\n",
       "<tr><td title=\"0 2\"></td><td title=\"1 2\">Cars</td><td style=\"font-weight:bold\" title=\"2 2\">Planes</td><td style=\"font-weight:bold\" title=\"3 2\">Trains</td></tr>\n",
       "<tr><td title=\"0 3\">John</td><td title=\"1 3\">2.0</td><td title=\"2 3\">2.0</td><td title=\"3 3\">1.0</td></tr>\n",
       "<tr><td title=\"0 4\">Paul</td><td title=\"1 4\">4.0</td><td title=\"2 4\">3.0</td><td title=\"3 4\">2.0</td></tr>\n",
       "<tr><td title=\"0 5\">Ringo</td><td title=\"1 5\">4.0</td><td title=\"2 5\">1.0</td><td title=\"3 5\">3.0</td></tr>\n",
       "<tr><td title=\"0 6\">George</td><td title=\"1 6\">2.0</td><td title=\"2 6\">5.0</td><td title=\"3 6\">5.0</td></tr>\n",
       "</table>\n",
       "\n",
       "</div>\n"
      ],
      "text/plain": [
       "<IPython.core.display.HTML object>"
      ]
     },
     "metadata": {},
     "output_type": "display_data"
    }
   ],
   "source": [
    "from databaker.framework import *\n",
    "\n",
    "tab = loadxlstabs(\"example1.xls\", \"beatles\", verbose=False)[0]\n",
    "savepreviewhtml(tab, verbose=False)\n"
   ]
  },
  {
   "cell_type": "markdown",
   "metadata": {},
   "source": [
    "## Conversion segments\n",
    "Databaker gives you tools to help you write the code to navigate around the spreadsheet and select the cells and their correspondences.  \n",
    "\n",
    "When you are done your code will look like the following.  \n",
    "\n",
    "You can click on the OBS (observation) cells to see how they connect to the headings."
   ]
  },
  {
   "cell_type": "code",
   "execution_count": 2,
   "metadata": {
    "collapsed": false
   },
   "outputs": [
    {
     "data": {
      "text/html": [
       "<div id=\"injblock1002\">\n",
       "<style>\n",
       "table.ex, table.exkey { border: thin black solid }\n",
       "table.ex td, table.ex tr { border: none }\n",
       "table.ex td:hover { border: thin blue solid }\n",
       "table.ex td.excOBS:hover { border: thin red solid }\n",
       "table.ex td.selected { border: thick red solid }\n",
       "</style>\n",
       "\n",
       "\n",
       "<table class=\"exkey\">\n",
       "<tr><td class=\"xc0\" style=\"background-color:Aqua\">OBS</td><td class=\"xc1\" style=\"background-color:LightGreen\">TIME</td><td class=\"xc2\" style=\"background-color:MistyRose\">Vehicles</td><td class=\"xc3\" style=\"background-color:LightGray\">Name</td></tr></table>\n",
       "\n",
       "<table class=\"ex\">\n",
       "<caption style=\"text-align:center; padding:0px; caption-side:bottom\">beatles</caption>\n",
       "<tr><td title=\"0 0\">Date</td><td style=\"background-color:LightGreen\" title=\"1 0\">2014.0</td><td title=\"2 0\"></td><td title=\"3 0\"></td></tr>\n",
       "<tr><td title=\"0 1\"></td><td title=\"1 1\"></td><td title=\"2 1\"></td><td title=\"3 1\"></td></tr>\n",
       "<tr><td title=\"0 2\"></td><td style=\"background-color:MistyRose\" title=\"1 2\">Cars</td><td style=\"background-color:MistyRose;font-weight:bold\" title=\"2 2\">Planes</td><td style=\"background-color:MistyRose;font-weight:bold\" title=\"3 2\">Trains</td></tr>\n",
       "<tr><td style=\"background-color:LightGray\" title=\"0 3\">John</td><td style=\"background-color:Aqua\" title=\"1 3\">2.0</td><td style=\"background-color:Aqua\" title=\"2 3\">2.0</td><td style=\"background-color:Aqua\" title=\"3 3\">1.0</td></tr>\n",
       "<tr><td style=\"background-color:LightGray\" title=\"0 4\">Paul</td><td style=\"background-color:Aqua\" title=\"1 4\">4.0</td><td style=\"background-color:Aqua\" title=\"2 4\">3.0</td><td style=\"background-color:Aqua\" title=\"3 4\">2.0</td></tr>\n",
       "<tr><td style=\"background-color:LightGray\" title=\"0 5\">Ringo</td><td style=\"background-color:Aqua\" title=\"1 5\">4.0</td><td style=\"background-color:Aqua\" title=\"2 5\">1.0</td><td style=\"background-color:Aqua\" title=\"3 5\">3.0</td></tr>\n",
       "<tr><td style=\"background-color:LightGray\" title=\"0 6\">George</td><td style=\"background-color:Aqua\" title=\"1 6\">2.0</td><td style=\"background-color:Aqua\" title=\"2 6\">5.0</td><td style=\"background-color:Aqua\" title=\"3 6\">5.0</td></tr>\n",
       "</table>\n",
       "\n",
       "</div>\n",
       "\n",
       "<script>\n",
       "var jslookup = {\"2 3\":[1,0,2,2,0,3],\"2 6\":[1,0,2,2,0,6],\"2 5\":[1,0,2,2,0,5],\"1 3\":[1,0,1,2,0,3],\"3 6\":[1,0,3,2,0,6],\"3 5\":[1,0,3,2,0,5],\"3 3\":[1,0,3,2,0,3],\"1 4\":[1,0,1,2,0,4],\"2 4\":[1,0,2,2,0,4],\"1 5\":[1,0,1,2,0,5],\"1 6\":[1,0,1,2,0,6],\"3 4\":[1,0,3,2,0,4]}; \n",
       "var jdividNUM = \"injblock1002\"; \n",
       "var Dclickedcell = null; \n",
       "function clickedcell() \n",
       "{ \n",
       "    Dclickedcell = this; \n",
       "    console.log(\"jjjj\", this); \n",
       "    var rgc = new RegExp('(^|\\b)' + \"selected\".split(' ').join('|') + '(\\b|$)', 'gi'); \n",
       "    Array.prototype.forEach.call(document.querySelectorAll(\"div#\"+jdividNUM+\" table.ex td.selected\"), function(el, i) { \n",
       "        if (el.classList)  el.classList.remove(\"selected\");\n",
       "        else  el.className = el.className.replace(rgc, ' ');\n",
       "    }); \n",
       "    if (this.classList)  this.classList.add(\"selected\");\n",
       "    else this.className += ' ' + \"selected\";\n",
       "\n",
       "    var dimpairs = jslookup[this.title]; \n",
       "    if (dimpairs !== undefined) {\n",
       "        for (var i = 1; i < dimpairs.length; i += 2) {\n",
       "            var row = document.querySelectorAll(\"div#\"+jdividNUM+\" table.ex tr\")[dimpairs[i]]; \n",
       "            var el = row.querySelectorAll(\"td\")[dimpairs[i-1]]; \n",
       "            if (el.classList)  el.classList.add(\"selected\");\n",
       "            else el.className += ' ' + \"selected\";\n",
       "        }\n",
       "    }\n",
       "}\n",
       "Array.prototype.forEach.call(document.querySelectorAll(\"div#\"+jdividNUM+\" table.ex td\"), function(item, i) { item.onclick=clickedcell; }); \n",
       "</script>\n"
      ],
      "text/plain": [
       "<IPython.core.display.HTML object>"
      ]
     },
     "metadata": {},
     "output_type": "display_data"
    }
   ],
   "source": [
    "r1 = tab.excel_ref('B3').expand(RIGHT)\n",
    "r2 = tab.excel_ref('A3').fill(DOWN)\n",
    "dimensions = [ \n",
    "    HDim(tab.excel_ref('B1'), TIME, CLOSEST, ABOVE), \n",
    "    HDim(r1, \"Vehicles\", DIRECTLY, ABOVE), \n",
    "    HDim(r2, \"Name\", DIRECTLY, LEFT), \n",
    "    HDimConst(\"Category\", \"Beatles\")\n",
    "]\n",
    "observations = tab.excel_ref('B4').expand(DOWN).expand(RIGHT).is_not_blank().is_not_whitespace()\n",
    "c1 = ConversionSegment(observations, dimensions)\n",
    "savepreviewhtml(c1)\n"
   ]
  },
  {
   "cell_type": "markdown",
   "metadata": {},
   "source": [
    "## Output in pandas\n",
    "[Pandas data tables](http://pandas.pydata.org/) provides an enormous scope for further processing and cleaning of the data.  \n",
    "\n",
    "To make full use of its power you should become familiar with its [Time series functionality](http://pandas.pydata.org/pandas-docs/stable/timeseries.html), which will allows you to plot, resample and align multple data sources at once.\n"
   ]
  },
  {
   "cell_type": "code",
   "execution_count": 3,
   "metadata": {
    "collapsed": false
   },
   "outputs": [
    {
     "name": "stdout",
     "output_type": "stream",
     "text": [
      "TIMEUNIT='Year'\n"
     ]
    },
    {
     "data": {
      "text/html": [
       "<div>\n",
       "<table border=\"1\" class=\"dataframe\">\n",
       "  <thead>\n",
       "    <tr style=\"text-align: right;\">\n",
       "      <th></th>\n",
       "      <th>OBS</th>\n",
       "      <th>TIME</th>\n",
       "      <th>TIMEUNIT</th>\n",
       "      <th>Vehicles</th>\n",
       "      <th>Name</th>\n",
       "      <th>Category</th>\n",
       "      <th>__x</th>\n",
       "      <th>__y</th>\n",
       "      <th>__tablename</th>\n",
       "    </tr>\n",
       "  </thead>\n",
       "  <tbody>\n",
       "    <tr>\n",
       "      <th>0</th>\n",
       "      <td>2.0</td>\n",
       "      <td>2014</td>\n",
       "      <td>Year</td>\n",
       "      <td>Cars</td>\n",
       "      <td>John</td>\n",
       "      <td>Beatles</td>\n",
       "      <td>1</td>\n",
       "      <td>3</td>\n",
       "      <td>beatles</td>\n",
       "    </tr>\n",
       "    <tr>\n",
       "      <th>1</th>\n",
       "      <td>2.0</td>\n",
       "      <td>2014</td>\n",
       "      <td>Year</td>\n",
       "      <td>Planes</td>\n",
       "      <td>John</td>\n",
       "      <td>Beatles</td>\n",
       "      <td>2</td>\n",
       "      <td>3</td>\n",
       "      <td>beatles</td>\n",
       "    </tr>\n",
       "    <tr>\n",
       "      <th>2</th>\n",
       "      <td>1.0</td>\n",
       "      <td>2014</td>\n",
       "      <td>Year</td>\n",
       "      <td>Trains</td>\n",
       "      <td>John</td>\n",
       "      <td>Beatles</td>\n",
       "      <td>3</td>\n",
       "      <td>3</td>\n",
       "      <td>beatles</td>\n",
       "    </tr>\n",
       "    <tr>\n",
       "      <th>3</th>\n",
       "      <td>4.0</td>\n",
       "      <td>2014</td>\n",
       "      <td>Year</td>\n",
       "      <td>Cars</td>\n",
       "      <td>Paul</td>\n",
       "      <td>Beatles</td>\n",
       "      <td>1</td>\n",
       "      <td>4</td>\n",
       "      <td>beatles</td>\n",
       "    </tr>\n",
       "    <tr>\n",
       "      <th>4</th>\n",
       "      <td>3.0</td>\n",
       "      <td>2014</td>\n",
       "      <td>Year</td>\n",
       "      <td>Planes</td>\n",
       "      <td>Paul</td>\n",
       "      <td>Beatles</td>\n",
       "      <td>2</td>\n",
       "      <td>4</td>\n",
       "      <td>beatles</td>\n",
       "    </tr>\n",
       "    <tr>\n",
       "      <th>5</th>\n",
       "      <td>2.0</td>\n",
       "      <td>2014</td>\n",
       "      <td>Year</td>\n",
       "      <td>Trains</td>\n",
       "      <td>Paul</td>\n",
       "      <td>Beatles</td>\n",
       "      <td>3</td>\n",
       "      <td>4</td>\n",
       "      <td>beatles</td>\n",
       "    </tr>\n",
       "    <tr>\n",
       "      <th>6</th>\n",
       "      <td>4.0</td>\n",
       "      <td>2014</td>\n",
       "      <td>Year</td>\n",
       "      <td>Cars</td>\n",
       "      <td>Ringo</td>\n",
       "      <td>Beatles</td>\n",
       "      <td>1</td>\n",
       "      <td>5</td>\n",
       "      <td>beatles</td>\n",
       "    </tr>\n",
       "    <tr>\n",
       "      <th>7</th>\n",
       "      <td>1.0</td>\n",
       "      <td>2014</td>\n",
       "      <td>Year</td>\n",
       "      <td>Planes</td>\n",
       "      <td>Ringo</td>\n",
       "      <td>Beatles</td>\n",
       "      <td>2</td>\n",
       "      <td>5</td>\n",
       "      <td>beatles</td>\n",
       "    </tr>\n",
       "    <tr>\n",
       "      <th>8</th>\n",
       "      <td>3.0</td>\n",
       "      <td>2014</td>\n",
       "      <td>Year</td>\n",
       "      <td>Trains</td>\n",
       "      <td>Ringo</td>\n",
       "      <td>Beatles</td>\n",
       "      <td>3</td>\n",
       "      <td>5</td>\n",
       "      <td>beatles</td>\n",
       "    </tr>\n",
       "    <tr>\n",
       "      <th>9</th>\n",
       "      <td>2.0</td>\n",
       "      <td>2014</td>\n",
       "      <td>Year</td>\n",
       "      <td>Cars</td>\n",
       "      <td>George</td>\n",
       "      <td>Beatles</td>\n",
       "      <td>1</td>\n",
       "      <td>6</td>\n",
       "      <td>beatles</td>\n",
       "    </tr>\n",
       "    <tr>\n",
       "      <th>10</th>\n",
       "      <td>5.0</td>\n",
       "      <td>2014</td>\n",
       "      <td>Year</td>\n",
       "      <td>Planes</td>\n",
       "      <td>George</td>\n",
       "      <td>Beatles</td>\n",
       "      <td>2</td>\n",
       "      <td>6</td>\n",
       "      <td>beatles</td>\n",
       "    </tr>\n",
       "    <tr>\n",
       "      <th>11</th>\n",
       "      <td>5.0</td>\n",
       "      <td>2014</td>\n",
       "      <td>Year</td>\n",
       "      <td>Trains</td>\n",
       "      <td>George</td>\n",
       "      <td>Beatles</td>\n",
       "      <td>3</td>\n",
       "      <td>6</td>\n",
       "      <td>beatles</td>\n",
       "    </tr>\n",
       "  </tbody>\n",
       "</table>\n",
       "</div>"
      ],
      "text/plain": [
       "    OBS  TIME TIMEUNIT Vehicles    Name Category  __x  __y __tablename\n",
       "0   2.0  2014     Year     Cars    John  Beatles    1    3     beatles\n",
       "1   2.0  2014     Year   Planes    John  Beatles    2    3     beatles\n",
       "2   1.0  2014     Year   Trains    John  Beatles    3    3     beatles\n",
       "3   4.0  2014     Year     Cars    Paul  Beatles    1    4     beatles\n",
       "4   3.0  2014     Year   Planes    Paul  Beatles    2    4     beatles\n",
       "5   2.0  2014     Year   Trains    Paul  Beatles    3    4     beatles\n",
       "6   4.0  2014     Year     Cars   Ringo  Beatles    1    5     beatles\n",
       "7   1.0  2014     Year   Planes   Ringo  Beatles    2    5     beatles\n",
       "8   3.0  2014     Year   Trains   Ringo  Beatles    3    5     beatles\n",
       "9   2.0  2014     Year     Cars  George  Beatles    1    6     beatles\n",
       "10  5.0  2014     Year   Planes  George  Beatles    2    6     beatles\n",
       "11  5.0  2014     Year   Trains  George  Beatles    3    6     beatles"
      ]
     },
     "execution_count": 3,
     "metadata": {},
     "output_type": "execute_result"
    }
   ],
   "source": [
    "c1.topandas()"
   ]
  },
  {
   "cell_type": "markdown",
   "metadata": {},
   "source": [
    "## Output in WDA Observation File\n",
    "The WDA system in the ONS has been the primary use for this library.  If you need output into WDA the result would look like the following:"
   ]
  },
  {
   "cell_type": "code",
   "execution_count": 4,
   "metadata": {
    "collapsed": false
   },
   "outputs": [
    {
     "name": "stdout",
     "output_type": "stream",
     "text": [
      "observation,data_marking,statistical_unit_eng,statistical_unit_cym,measure_type_eng,measure_type_cym,observation_type,empty,obs_type_value,unit_multiplier,unit_of_measure_eng,unit_of_measure_cym,confidentuality,empty1,geographic_area,empty2,empty3,time_dim_item_id,time_dim_item_label_eng,time_dim_item_label_cym,time_type,empty4,statistical_population_id,statistical_population_label_eng,statistical_population_label_cym,cdid,cdiddescrip,empty5,empty6,empty7,empty8,empty9,empty10,empty11,empty12,dim_id_1,dimension_label_eng_1,dimension_label_cym_1,dim_item_id_1,dimension_item_label_eng_1,dimension_item_label_cym_1,is_total_1,is_sub_total_1,dim_id_2,dimension_label_eng_2,dimension_label_cym_2,dim_item_id_2,dimension_item_label_eng_2,dimension_item_label_cym_2,is_total_2,is_sub_total_2,dim_id_3,dimension_label_eng_3,dimension_label_cym_3,dim_item_id_3,dimension_item_label_eng_3,dimension_item_label_cym_3,is_total_3,is_sub_total_3\r\n",
      "2.0,,,,,,,,,,,,,,,,,2014,2014,,Year,,,,,,,,,,,,,0,,Vehicles,Vehicles,,Cars,Cars,,,,Name,Name,,John,John,,,,Category,Category,,Beatles,Beatles,,,\r\n",
      "2.0,,,,,,,,,,,,,,,,,2014,2014,,Year,,,,,,,,,,,,,0,,Vehicles,Vehicles,,Planes,Planes,,,,Name,Name,,John,John,,,,Category,Category,,Beatles,Beatles,,,\r\n",
      "1.0,,,,,,,,,,,,,,,,,2014,2014,,Year,,,,,,,,,,,,,0,,Vehicles,Vehicles,,Trains,Trains,,,,Name,Name,,John,John,,,,Category,Category,,Beatles,Beatles,,,\r\n",
      "4.0,,,,,,,,,,,,,,,,,2014,2014,,Year,,,,,,,,,,,,,0,,Vehicles,Vehicles,,Cars,Cars,,,,Name,Name,,Paul,Paul,,,,Category,Category,,Beatles,Beatles,,,\r\n",
      "3.0,,,,,,,,,,,,,,,,,2014,2014,,Year,,,,,,,,,,,,,0,,Vehicles,Vehicles,,Planes,Planes,,,,Name,Name,,Paul,Paul,,,,Category,Category,,Beatles,Beatles,,,\r\n",
      "2.0,,,,,,,,,,,,,,,,,2014,2014,,Year,,,,,,,,,,,,,0,,Vehicles,Vehicles,,Trains,Trains,,,,Name,Name,,Paul,Paul,,,,Category,Category,,Beatles,Beatles,,,\r\n",
      "4.0,,,,,,,,,,,,,,,,,2014,2014,,Year,,,,,,,,,,,,,0,,Vehicles,Vehicles,,Cars,Cars,,,,Name,Name,,Ringo,Ringo,,,,Category,Category,,Beatles,Beatles,,,\r\n",
      "1.0,,,,,,,,,,,,,,,,,2014,2014,,Year,,,,,,,,,,,,,0,,Vehicles,Vehicles,,Planes,Planes,,,,Name,Name,,Ringo,Ringo,,,,Category,Category,,Beatles,Beatles,,,\r\n",
      "3.0,,,,,,,,,,,,,,,,,2014,2014,,Year,,,,,,,,,,,,,0,,Vehicles,Vehicles,,Trains,Trains,,,,Name,Name,,Ringo,Ringo,,,,Category,Category,,Beatles,Beatles,,,\r\n",
      "2.0,,,,,,,,,,,,,,,,,2014,2014,,Year,,,,,,,,,,,,,0,,Vehicles,Vehicles,,Cars,Cars,,,,Name,Name,,George,George,,,,Category,Category,,Beatles,Beatles,,,\r\n",
      "5.0,,,,,,,,,,,,,,,,,2014,2014,,Year,,,,,,,,,,,,,0,,Vehicles,Vehicles,,Planes,Planes,,,,Name,Name,,George,George,,,,Category,Category,,Beatles,Beatles,,,\r\n",
      "5.0,,,,,,,,,,,,,,,,,2014,2014,,Year,,,,,,,,,,,,,0,,Vehicles,Vehicles,,Trains,Trains,,,,Name,Name,,George,George,,,,Category,Category,,Beatles,Beatles,,,\r\n",
      "*********,12\r\n",
      "\n"
     ]
    }
   ],
   "source": [
    "print(writetechnicalCSV(None, c1))"
   ]
  },
  {
   "cell_type": "markdown",
   "metadata": {},
   "source": [
    "## Further notes\n",
    "Databaker has been developed by the [Sensible Code Company](http://sensiblecode.io/) on contract from the [Office of National Statistics](https://www.ons.gov.uk/).\n",
    "\n",
    "The first version was written in 2014 and ran only as a command line script where previews were made by via a coloured Excel spreadsheet.  This version still exists under the [version 1.2.0](https://github.com/sensiblecodeio/databaker/tree/1.2.0) tag and the documentation is hosted [here](https://sensiblecodeio.github.io/quickcode-ons-docs/).\n",
    "\n",
    "This new version was developed at the end of 2015 to take advantage of the interactive programming capabilities of Jupyter and the freedom not to maintain backward compatibility.\n",
    "\n",
    "See the remaining tutorial notebooks for more details."
   ]
  },
  {
   "cell_type": "code",
   "execution_count": null,
   "metadata": {
    "collapsed": true
   },
   "outputs": [],
   "source": []
  }
 ],
 "metadata": {
  "kernelspec": {
   "display_name": "Python 3",
   "language": "python",
   "name": "python3"
  },
  "language_info": {
   "codemirror_mode": {
    "name": "ipython",
    "version": 3
   },
   "file_extension": ".py",
   "mimetype": "text/x-python",
   "name": "python",
   "nbconvert_exporter": "python",
   "pygments_lexer": "ipython3",
   "version": "3.5.2"
  }
 },
 "nbformat": 4,
 "nbformat_minor": 1
}
