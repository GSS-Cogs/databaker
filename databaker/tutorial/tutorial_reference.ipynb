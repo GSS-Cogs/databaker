{
 "cells": [
  {
   "cell_type": "markdown",
   "metadata": {},
   "source": [
    "# Function reference\n",
    "\n",
    "This is a run-down of most of the functions that are in the system.  \n",
    "\n",
    "If a function looks useful but you don't quite understand the description, it's should be easy to experiment with its outputs within this interactive programming environment."
   ]
  },
  {
   "cell_type": "code",
   "execution_count": 7,
   "metadata": {
    "collapsed": false
   },
   "outputs": [],
   "source": [
    "from databaker.framework import *\n",
    "\n",
    "# put your input-output files here\n",
    "inputfile = \"example1.xls\"\n",
    "outputfile = \"example1.csv\"\n",
    "previewfile = \"preview.html\"\n"
   ]
  },
  {
   "cell_type": "markdown",
   "metadata": {},
   "source": [
    "# Loading and saving\n",
    "\n",
    "### tabs = loadxlstabs(inputfile, sheetids=\"*\", verbose=True)\n",
    "Load xls file into a list of tables, which act as bags of cells\n",
    "  \n",
    "  \n",
    "### savepreviewhtml(tab, htmlfilename=None, verbose=True)\n",
    "\n",
    "Previews a table -- or list of cellbags or conversion segments with the same table -- either inline, or into a separate file.\n",
    "  \n",
    "  \n",
    "### writetechnicalCSV(outputfile, conversionsegments) \n",
    "\n",
    "Outputs a WDA format CSV file from a list of conversion segments or pandas dataframes\n",
    "\n",
    "\n",
    "### readtechnicalCSV(wdafile, bverbose=False, baspandas=True)\n",
    "\n",
    "Reads in an old WDA file into a list of pandas tables, one for each segment\n",
    "\n"
   ]
  },
  {
   "cell_type": "markdown",
   "metadata": {},
   "source": [
    "# Cell bag selection\n",
    "These functions generally apply to a table as well as a cell bag, but they always output a cell bag.\n",
    "\n",
    "A cell bag `bag` always has a pointer to its original table `bag.table`.  Howwever, you can access the underlying unordered set of cells of a bag as `bag.unordered_cells`."
   ]
  },
  {
   "cell_type": "code",
   "execution_count": 33,
   "metadata": {
    "collapsed": false
   },
   "outputs": [
    {
     "name": "stdout",
     "output_type": "stream",
     "text": [
      "Loading example1.xls which has size 7168 bytes\n",
      "Table names: ['stones']\n",
      "{<E4 10.0>, <C1 ''>, <D3 'Rocks'>, <D7 'shale'>, <A2 'Date'>, <C6 'yes'>, <A3 'Year'>, <D2 ''>, <D5 'granite'>, <E6 2.0>, <A5 ''>, <A9 ''>, <C4 'yes'>, <B9 'Dec'>, <D6 'limestone'>, <A6 1989.0>, <C2 ''>, <C3 'present'>, <E9 8.0>, <C8 'yes'>, <A1 ''>, <B8 'Jun'>, <A4 1972.0>, <C5 'no'>, <D8 'basalt'>, <C9 'yes'>, <E2 ''>, <E1 ''>, <B6 'Feb'>, <E5 30.0>, <C7 'no'>, <D1 ''>, <E8 96.0>, <B7 'Mar'>, <B1 ''>, <E3 'cost'>, <A8 ''>, <E7 88.0>, <B2 ''>, <B3 'Month'>, <B5 'Aug'>, <A7 ''>, <D9 'ice'>, <D4 'chalk'>, <B4 'Jan'>}\n"
     ]
    }
   ],
   "source": [
    "tab = loadxlstabs(inputfile, sheetids=\"stones\", verbose=True)[0]\n",
    "print(tab)\n"
   ]
  },
  {
   "cell_type": "markdown",
   "metadata": {},
   "source": [
    "### cellbag.is_XXX()\n",
    "### cellbag.is_not_XXX()\n",
    "\n",
    "Returns cells which are or are not a XXX thing.\n",
    "  \n",
    "Allowable functions: \n",
    "\n",
    "> bold, italic, underline, number, date, whitespace, strikeout, any_border, all_border, richtext\n",
    "\n",
    "These functions can be chained, eg cellbag.is_not_number().is_not_whitespace()."
   ]
  },
  {
   "cell_type": "code",
   "execution_count": 45,
   "metadata": {
    "collapsed": false
   },
   "outputs": [
    {
     "name": "stdout",
     "output_type": "stream",
     "text": [
      "Numbered cells only: {<A6 1989.0>, <E5 30.0>, <E8 96.0>, <E4 10.0>, <E9 8.0>, <E6 2.0>, <E7 88.0>, <A4 1972.0>}\n",
      "\n",
      "Not numbers: {<C1 ''>, <D3 'Rocks'>, <D7 'shale'>, <B4 'Jan'>, <A2 'Date'>, <C6 'yes'>, <A3 'Year'>, <D4 'chalk'>, <D2 ''>, <D5 'granite'>, <A9 ''>, <C4 'yes'>, <B9 'Dec'>, <D6 'limestone'>, <C2 ''>, <C3 'present'>, <C8 'yes'>, <A1 ''>, <B8 'Jun'>, <D8 'basalt'>, <C5 'no'>, <C9 'yes'>, <E1 ''>, <B6 'Feb'>, <C7 'no'>, <D1 ''>, <B7 'Mar'>, <B1 ''>, <E3 'cost'>, <A8 ''>, <B2 ''>, <B3 'Month'>, <B5 'Aug'>, <A7 ''>, <D9 'ice'>, <E2 ''>, <A5 ''>}\n",
      "\n",
      "Not numbers and not whitespace: {<D3 'Rocks'>, <D7 'shale'>, <A2 'Date'>, <C6 'yes'>, <A3 'Year'>, <D5 'granite'>, <C4 'yes'>, <B9 'Dec'>, <D6 'limestone'>, <C3 'present'>, <C8 'yes'>, <B8 'Jun'>, <D8 'basalt'>, <C5 'no'>, <C9 'yes'>, <B6 'Feb'>, <C7 'no'>, <B7 'Mar'>, <E3 'cost'>, <B3 'Month'>, <B5 'Aug'>, <D9 'ice'>, <D4 'chalk'>, <B4 'Jan'>}\n",
      "\n",
      "Cells that seem to be a date: {<A4 1972.0>, <A6 1989.0>}\n"
     ]
    }
   ],
   "source": [
    "cellbag = tab\n",
    "print(\"Numbered cells only:\", cellbag.is_number())\n",
    "print()\n",
    "print(\"Not numbers:\", cellbag.is_not_number())\n",
    "print()\n",
    "print(\"Not numbers and not whitespace:\", cellbag.is_not_number().is_not_whitespace())\n",
    "print()\n",
    "print(\"Cells that seem to be a date:\", cellbag.is_date())\n"
   ]
  },
  {
   "cell_type": "markdown",
   "metadata": {},
   "source": [
    "### cellbag.filter(word)\n",
    "\n",
    "Only cells matching this word exactly\n",
    "\n",
    "### cellbag.filter(function(cell))\n",
    "\n",
    "Only cells where function(cell) == True\n",
    "\n",
    "\n",
    "### cellbag.one_of([word1, word2])\n",
    "\n",
    "Only cells matching one of the words\n",
    "\n",
    "\n",
    "### cellbag.regex(regexp)\n",
    "\n",
    "Only cell matching one of the words\n",
    "\n",
    "\n",
    "### cellbag.excel_ref(ref)\n",
    "\n",
    "Selects a cell by its excel Column-Row/Letter-Number format where 'A1' is the top left hand corner.\n",
    "\n",
    "This also works for single columns or rows (eg 'C', or '3') and ranges (eg 'A2:B3'). \n",
    "\n",
    "This way of accessing is not recommended unless you know that the spreadsheet you are working with won't have extra rows or columns inserted or deleted from it.  \n",
    "\n",
    "### cellbag.by_index(n)\n",
    "\n",
    "Selects a single cell from the cell bag of index n, where n=1 is the first element.  (n can also be a list of integers.)\n",
    "\n",
    "\n",
    "### cellbag.assert_one()\n",
    "\n",
    "Throws an exception if there is not exactly one cell in this bag (useful for validation if your filter above was supposed to return only one cell)\n"
   ]
  },
  {
   "cell_type": "code",
   "execution_count": 132,
   "metadata": {
    "collapsed": false
   },
   "outputs": [
    {
     "name": "stdout",
     "output_type": "stream",
     "text": [
      "Get some matching cells {<D3 'Rocks'>, <D9 'ice'>}\n",
      "A3 is {<A3 'Year'>}\n",
      "A3:B4 is {<B3 'Month'>, <A2 'Date'>, <B2 ''>, <A4 1972.0>, <A3 'Year'>, <B4 'Jan'>}\n",
      "\n",
      "Numbers greater than 20 {<A4 1972.0>, <A6 1989.0>, <E8 96.0>, <E5 30.0>, <E7 88.0>}\n",
      "Numbers less than 20 {<E6 2.0>, <E4 10.0>, <E9 8.0>}\n",
      "\n",
      "The second cell in the whole table is {<B1 ''>}\n"
     ]
    }
   ],
   "source": [
    "print(\"Get some matching cells\", cellbag.one_of([\"Rocks\", \"ice\", \"mud\"]))\n",
    "print(\"A3 is\", cellbag.excel_ref(\"A3\"))\n",
    "print(\"A3:B4 is\", cellbag.excel_ref(\"A2:B4\"))\n",
    "print()\n",
    "print(\"Numbers greater than 20\", cellbag.is_number().filter(lambda c: c.value>20))\n",
    "print(\"Numbers less than 20\", cellbag.is_number().filter(lambda c: c.value<20))\n",
    "print()\n",
    "print(\"The second cell in the whole table is\", tab.by_index(2))"
   ]
  },
  {
   "cell_type": "markdown",
   "metadata": {},
   "source": [
    "### cellbag1.union(cellbag2)\n",
    "\n",
    "Union of two bags.  Can also be expressed as `cellbag1 | cellbag2`\n",
    "\n",
    "### cellbag1.difference(cellbag2)\n",
    "\n",
    "Difference of two bags.  Can also be expressed as `cellbag1 - cellbag2`\n",
    "\n",
    "### cellbag1.difference(cellbag2)\n",
    "\n",
    "Intersection of two bags.  Can also be expressed as `cellbag1 & cellbag2`"
   ]
  },
  {
   "cell_type": "code",
   "execution_count": 121,
   "metadata": {
    "collapsed": false
   },
   "outputs": [
    {
     "name": "stdout",
     "output_type": "stream",
     "text": [
      "colC {<D5 'granite'>, <D3 'Rocks'>, <D4 'chalk'>}\n",
      "rowC {<A4 1972.0>, <D4 'chalk'>, <C4 'yes'>, <B4 'Jan'>}\n",
      "\n",
      "Union is {<D5 'granite'>, <A4 1972.0>, <D3 'Rocks'>, <D4 'chalk'>, <C4 'yes'>, <B4 'Jan'>}\n",
      "Difference is {<D5 'granite'>, <D3 'Rocks'>}\n",
      "Intersection is {<D4 'chalk'>}\n",
      "\n",
      "Union is {<D5 'granite'>, <A4 1972.0>, <D3 'Rocks'>, <D4 'chalk'>, <C4 'yes'>, <B4 'Jan'>}\n",
      "Difference is {<D5 'granite'>, <D3 'Rocks'>}\n",
      "Intersection is {<D4 'chalk'>}\n"
     ]
    }
   ],
   "source": [
    "colC = tab.excel_ref(\"D3:D5\")\n",
    "rowC = tab.excel_ref(\"A4:D4\")\n",
    "print(\"colC\", colC)\n",
    "print(\"rowC\", rowC)\n",
    "print()\n",
    "print(\"Union is\", colC.union(rowC))\n",
    "print(\"Difference is\", colC.difference(rowC))\n",
    "print(\"Intersection is\", colC.intersection(rowC))\n",
    "print()\n",
    "print(\"Union is\", (colC | rowC))\n",
    "print(\"Difference is\", (colC - rowC))\n",
    "print(\"Intersection is\", (colC & rowC))\n"
   ]
  },
  {
   "cell_type": "markdown",
   "metadata": {},
   "source": [
    "### cellbag1.waffle(cellbag2)\n",
    "\n",
    "Get all cells which have a cell from one bag above them, and the other bag to the side. Note that the two bags are interchangable without changing the output. You can change the direction from its default (DOWN) by specifying direction=LEFT or similar.\n",
    "\n",
    "### cellbag1.junction(cellbag2)\n",
    "\n",
    "Enumerates the output of waffle in triplets\n",
    "\n",
    "\n",
    "### cellbag1.same_row(cellbag2)\n",
    "\n",
    "Get cells in this bag which are in the same row as a cell in the second.\n",
    "\n",
    "### cellbag1.same_column(cellbag2)\n",
    "\n",
    "Get cells in this bag which are in the same column as a cell in the second."
   ]
  },
  {
   "cell_type": "code",
   "execution_count": 122,
   "metadata": {
    "collapsed": false
   },
   "outputs": [
    {
     "name": "stdout",
     "output_type": "stream",
     "text": [
      "Waffle:\n"
     ]
    },
    {
     "data": {
      "text/html": [
       "<div id=\"injblock1023\">\n",
       "<style>\n",
       "table.ex, table.exkey { border: thin black solid }\n",
       "table.ex td, table.ex tr { border: none }\n",
       "table.ex td:hover { border: thin blue solid }\n",
       "table.ex td.excOBS:hover { border: thin red solid }\n",
       "table.ex td.selected { border: thick red solid }\n",
       "</style>\n",
       "\n",
       "\n",
       "<table class=\"exkey\">\n",
       "<tr><td class=\"xc1\" style=\"background-color:LightGreen\">item 0</td><td class=\"xc2\" style=\"background-color:MistyRose\">item 1</td><td class=\"xc3\" style=\"background-color:LightGray\">item 2</td></tr></table>\n",
       "\n",
       "<table class=\"ex\">\n",
       "<caption style=\"text-align:center; padding:0px; caption-side:bottom\">stones</caption>\n",
       "<tr><td title=\"0 0\"></td><td title=\"1 0\"></td><td title=\"2 0\"></td><td title=\"3 0\"></td><td title=\"4 0\"></td></tr>\n",
       "<tr><td title=\"0 1\">Date</td><td title=\"1 1\"></td><td style=\"font-weight:bold\" title=\"2 1\"></td><td title=\"3 1\"></td><td title=\"4 1\"></td></tr>\n",
       "<tr><td title=\"0 2\">Year</td><td title=\"1 2\">Month</td><td style=\"font-weight:bold\" title=\"2 2\">present</td><td style=\"background-color:LightGreen\" title=\"3 2\">Rocks</td><td style=\"font-weight:bold\" title=\"4 2\">cost</td></tr>\n",
       "<tr><td title=\"0 3\">1972.0</td><td title=\"1 3\">Jan</td><td title=\"2 3\">yes</td><td title=\"3 3\">chalk</td><td style=\"background-color:LightGreen\" title=\"4 3\">10.0</td></tr>\n",
       "<tr><td title=\"0 4\"></td><td title=\"1 4\">Aug</td><td title=\"2 4\">no</td><td title=\"3 4\">granite</td><td title=\"4 4\">30.0</td></tr>\n",
       "<tr><td style=\"background-color:MistyRose\" title=\"0 5\">1989.0</td><td title=\"1 5\">Feb</td><td title=\"2 5\">yes</td><td style=\"background-color:LightGray\" title=\"3 5\">limestone</td><td style=\"background-color:LightGray\" title=\"4 5\">2.0</td></tr>\n",
       "<tr><td style=\"background-color:MistyRose\" title=\"0 6\"></td><td title=\"1 6\">Mar</td><td title=\"2 6\">no</td><td style=\"background-color:LightGray\" title=\"3 6\">shale</td><td style=\"background-color:LightGray\" title=\"4 6\">88.0</td></tr>\n",
       "<tr><td title=\"0 7\"></td><td title=\"1 7\">Jun</td><td title=\"2 7\">yes</td><td title=\"3 7\">basalt</td><td title=\"4 7\">96.0</td></tr>\n",
       "<tr><td title=\"0 8\"></td><td title=\"1 8\">Dec</td><td title=\"2 8\">yes</td><td title=\"3 8\">ice</td><td title=\"4 8\">8.0</td></tr>\n",
       "</table>\n",
       "\n",
       "</div>\n"
      ],
      "text/plain": [
       "<IPython.core.display.HTML object>"
      ]
     },
     "metadata": {},
     "output_type": "display_data"
    }
   ],
   "source": [
    "c = tab.excel_ref(\"D3\") | tab.excel_ref(\"E4\")\n",
    "d = tab.excel_ref(\"A6:A7\")\n",
    "print(\"Waffle:\")\n",
    "savepreviewhtml([c,d, c.waffle(d)])"
   ]
  },
  {
   "cell_type": "code",
   "execution_count": 123,
   "metadata": {
    "collapsed": false
   },
   "outputs": [
    {
     "name": "stdout",
     "output_type": "stream",
     "text": [
      "Junction output:\n",
      "   ({<D3 'Rocks'>}, {<A6 1989.0>}, {<D6 'limestone'>})\n",
      "   ({<D3 'Rocks'>}, {<A7 ''>}, {<D7 'shale'>})\n",
      "   ({<E4 10.0>}, {<A6 1989.0>}, {<E6 2.0>})\n",
      "   ({<E4 10.0>}, {<A7 ''>}, {<E7 88.0>})\n"
     ]
    }
   ],
   "source": [
    "print(\"Junction output:\")\n",
    "for s in c.junction(d):\n",
    "    print(\"  \", s)"
   ]
  },
  {
   "cell_type": "code",
   "execution_count": 128,
   "metadata": {
    "collapsed": false
   },
   "outputs": [
    {
     "name": "stdout",
     "output_type": "stream",
     "text": [
      "Cells column A that are in same row as {<D3 'Rocks'>, <E4 10.0>} are {<A4 1972.0>, <A3 'Year'>}\n",
      "Cells column 7 that are in same column as {<D3 'Rocks'>, <E4 10.0>} are {<D7 'shale'>, <E7 88.0>}\n"
     ]
    }
   ],
   "source": [
    "print(\"Cells column A that are in same row as\", c, \"are\", tab.excel_ref(\"A\").same_row(c))\n",
    "print(\"Cells column 7 that are in same column as\", c, \"are\", tab.excel_ref(\"7\").same_col(c))"
   ]
  },
  {
   "cell_type": "markdown",
   "metadata": {},
   "source": [
    "### cellbag.shift(direction)\n",
    "\n",
    "Move the selected cells UP, DOWN, LEFT or Right by one cell\n",
    "\n",
    "### cellbag.shift((dx, dy))\n",
    "\n",
    "Move the selected cells dx cells to RIGHT and dy cells DOWN (can have negative values)\n",
    "\n",
    "\n",
    "### cellbag.fill(direction)\n",
    "\n",
    "Take all the cells in one direction from the given cellbag\n",
    "\n",
    "### cellbag.expand(direction)\n",
    "\n",
    "All the cells in one direction, including itself.\n",
    "\n",
    "### cellbag.extrude(dx, dy)\n",
    "\n",
    "Step and include this many cells between 0 and dx and dy.\n"
   ]
  },
  {
   "cell_type": "code",
   "execution_count": 120,
   "metadata": {
    "collapsed": false
   },
   "outputs": [
    {
     "name": "stdout",
     "output_type": "stream",
     "text": [
      "Shift RIGHT from {<B4 'Jan'>} is {<C4 'yes'>}\n",
      "Shift (-1,-2) from {<B4 'Jan'>} is {<A2 'Date'>}\n",
      "Fill UP from {<B4 'Jan'>} is {<B3 'Month'>, <B1 ''>, <B2 ''>}\n",
      "Expand UP from {<B4 'Jan'>} is {<B3 'Month'>, <B4 'Jan'>, <B1 ''>, <B2 ''>}\n",
      "\n",
      "How it works: UP= (0, -1)   DOWN= (0, 1)   LEFT= (-1, 0)   RIGHT= (1, 0)\n",
      "\n",
      "Extrude two cells rightwards {<D4 'chalk'>, <C4 'yes'>, <B4 'Jan'>}\n"
     ]
    }
   ],
   "source": [
    "c = tab.excel_ref(\"B4\")\n",
    "print(\"Shift RIGHT from\", c, \"is\", c.shift(RIGHT))\n",
    "print(\"Shift (-1,-2) from\", c, \"is\", c.shift((-1, -2)))\n",
    "print(\"Fill UP from\", c, \"is\", c.fill(UP))\n",
    "print(\"Expand UP from\", c, \"is\", c.expand(UP))\n",
    "print()\n",
    "print(\"How it works: UP=\", UP, \"  DOWN=\", DOWN, \"  LEFT=\", LEFT, \"  RIGHT=\", RIGHT)\n",
    "print()\n",
    "print(\"Extrude two cells rightwards\", c.extrude(2,0))"
   ]
  },
  {
   "cell_type": "markdown",
   "metadata": {},
   "source": [
    "# Dimensions\n",
    "A dimension is simply a cellbag with a label and a lookup direction applied to it.  \n",
    "\n",
    "### hdim = HDim(cellbag, label, strict=[DIRECTLY|CLOSEST], direction=[ABOVE|BELOW|LEFT|RIGHT])\n",
    "\n",
    "The main constructor:\n",
    "\n",
    "* CLOSEST (gets the *first* cell in the same column or row as the observation in a specified direction);\n",
    "* DIRECTLY (gets the *closest* cell in the same column or row as the observation in a specified direction).\n",
    "\n",
    "\n",
    "### hdim.cellvalobs(cell)\n",
    "\n",
    "To look up the value of an individual cell.\n",
    "\n",
    "\n",
    "### hdim.AddCellValueOverride(overridecell, overridevalue)\n",
    "\n",
    "To add an override value to a cell or a value\n",
    "\n",
    "### hdim.discardcellsnotlookedup(observationcells)\n",
    "\n",
    "To remove header cells that are not seen by this list of observations\n",
    "\n",
    "### hdim.valueslist()\n",
    "\n",
    "To extract the list of values that the observations will look up to\n",
    "\n",
    "### hdim.checkvalues()\n",
    "\n",
    "To compare check against the cell values if they are the same\n",
    "\n",
    "### hdimc = HDimConst(label, value)\n",
    "\n",
    "To create a constant dimension that will give the same value no matter what the observation"
   ]
  },
  {
   "cell_type": "code",
   "execution_count": 133,
   "metadata": {
    "collapsed": false
   },
   "outputs": [
    {
     "data": {
      "text/plain": [
       "<function databaker.jupybakeutils.HDimConst>"
      ]
     },
     "execution_count": 133,
     "metadata": {},
     "output_type": "execute_result"
    }
   ],
   "source": [
    "HDimConst"
   ]
  },
  {
   "cell_type": "markdown",
   "metadata": {},
   "source": [
    "\n",
    "\n",
    "### Special dimensions\n",
    "\n",
    "* OBS is an observation, a particular piece of data.\n",
    "* DATAMARKER refer to footnote-like things, for example `(a)` to refer\n",
    "  to approximate data.\n",
    "* GEOG is the GSS code, e.g. `E04001323`.\n",
    "* TIME specifies the period, e.g. a year, month or quarter for which the\n",
    "  observation applies, e.g. `Feb-Apr 1971`.\n",
    "* TIMEUNIT is the length of the time period, e.g. `Quarter`.\n",
    "* Also STATPOP, UNITOFMEASURE, UNITMULTIPLIER, MEASURETYPE, STATUNIT."
   ]
  }
 ],
 "metadata": {
  "kernelspec": {
   "display_name": "Python 3",
   "language": "python",
   "name": "python3"
  },
  "language_info": {
   "codemirror_mode": {
    "name": "ipython",
    "version": 3
   },
   "file_extension": ".py",
   "mimetype": "text/x-python",
   "name": "python",
   "nbconvert_exporter": "python",
   "pygments_lexer": "ipython3",
   "version": "3.5.2"
  }
 },
 "nbformat": 4,
 "nbformat_minor": 1
}
