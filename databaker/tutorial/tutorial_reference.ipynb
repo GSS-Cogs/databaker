{
 "cells": [
  {
   "cell_type": "markdown",
   "metadata": {},
   "source": [
    "# Function reference\n",
    "\n",
    "This is a one-page comprehensive run-down of all the functions and features in the system to be kept for reference.  \n",
    "\n",
    "By executing `tutorial()` in the notebook you are taking a copy of all the tutorial notebooks, including this one.  \n",
    "\n",
    "So, if a function looks useful but you don't quite understand the description, you should experiment with its input and outputs within this interactive programming environment.  \n",
    "\n",
    "However, you need to execute at least the first cell in every section for it to work as it imports the libraries.\n",
    "\n",
    "## Table of contents\n",
    "\n",
    "* [Loading and saving](#Loading-and-saving) - The input (excel and WDA files) and output methods (html and WDA files)\n",
    "* [Cell bag selection](#Cell-bag-selection) - Selecting and transforming sets of cells in the spreadsheet\n",
    "* [Dimensions](#Dimensions) - Turning a mere set of cells into a dimension with look up instructions\n",
    "* [Conversion segments](#Conversion-Segments) - The batch of observations and list of dimensions that creates the output\n",
    "* [Downloading and unzipping files](#Downloading-excel-and-unzipping-files) - Further routes to full automation\n"
   ]
  },
  {
   "cell_type": "markdown",
   "metadata": {},
   "source": [
    "# Loading and saving\n",
    "\n",
    "### tabs = loadxlstabs(inputfile, sheetids=\"*\", verbose=True)\n",
    "Load xls file into a list of tables, which act as bags of cells\n",
    "  \n",
    "  \n",
    "### savepreviewhtml(tab, htmlfilename=None, verbose=True)\n",
    "\n",
    "Previews a table -- or list of cellbags or conversion segments with the same table -- either inline, or into a separate file.\n",
    "  \n",
    "  \n",
    "### writetechnicalCSV(outputfile, conversionsegments) \n",
    "\n",
    "Outputs a WDA format CSV file from a list of conversion segments or pandas dataframes\n",
    "\n",
    "\n",
    "### readtechnicalCSV(wdafile, bverbose=False, baspandas=True)\n",
    "\n",
    "Reads in an old WDA file into a list of pandas tables, one for each segment\n"
   ]
  },
  {
   "cell_type": "code",
   "execution_count": 7,
   "metadata": {
    "collapsed": false
   },
   "outputs": [],
   "source": [
    "from databaker.framework import *\n",
    "\n",
    "# put your input-output files here\n",
    "inputfile = \"example1.xls\"\n",
    "outputfile = \"example1.csv\"\n",
    "previewfile = \"preview.html\"\n"
   ]
  },
  {
   "cell_type": "markdown",
   "metadata": {},
   "source": [
    "# Cell bag selection\n",
    "These functions generally apply to a table as well as a cell bag, but they always output a cell bag.\n",
    "\n",
    "A cell bag `bag` always has a pointer to its original table `bag.table`.  Howwever, you can access the underlying unordered set of cells of a bag as `bag.unordered_cells`.\n",
    "\n",
    "**Note** in the examples below, please use `savepreviewhtml(cellbag)` or `savepreviewhtml([cellbagA, cellbagB, ...])` to see what the selections look like in the contents of the table.  These have been left out of unused notebook only to save clutter."
   ]
  },
  {
   "cell_type": "code",
   "execution_count": 2,
   "metadata": {
    "collapsed": false
   },
   "outputs": [
    {
     "name": "stdout",
     "output_type": "stream",
     "text": [
      "Loading example1.xls which has size 8192 bytes\n",
      "Table names: ['stones']\n",
      "{<B4 'Jan'>, <C6 'yes'>, <E7 88.0>, <D2 ''>, <E2 ''>, <A5 ''>, <E1 ''>, <B6 'Feb'>, <E3 'cost'>, <D3 'Rocks'>, <D8 'basalt'>, <C8 'yes'>, <A9 ''>, <B5 'Aug'>, <A2 'Date'>, <B9 'Dec'>, <D6 'limestone'>, <E6 2.0>, <A6 1989.0>, <C7 'no'>, <A8 ''>, <C3 'present'>, <C9 'yes'>, <E9 8.0>, <A1 ''>, <B3 'Month'>, <A4 1972.0>, <B8 'Jun'>, <B1 ''>, <E5 30.0>, <C2 ''>, <E8 96.0>, <C5 'no'>, <B7 'Mar'>, <D7 'shale'>, <B2 ''>, <D4 'chalk'>, <C4 'yes'>, <C1 ''>, <A3 'Year'>, <D5 'granite'>, <D1 ''>, <A7 ''>, <E4 10.0>, <D9 'ice'>}\n"
     ]
    }
   ],
   "source": [
    "from databaker.framework import *\n",
    "tab = loadxlstabs(\"example1.xls\", sheetids=\"stones\", verbose=True)[0]\n",
    "print(tab)\n"
   ]
  },
  {
   "cell_type": "markdown",
   "metadata": {},
   "source": [
    "### cellbag.is_XXX()\n",
    "### cellbag.is_not_XXX()\n",
    "\n",
    "Returns cells which are or are not a XXX thing.\n",
    "  \n",
    "Allowable functions: \n",
    "\n",
    "> bold, italic, underline, number, date, whitespace, strikeout, any_border, all_border, richtext\n",
    "\n",
    "These functions can be chained, eg cellbag.is_not_number().is_not_whitespace()."
   ]
  },
  {
   "cell_type": "code",
   "execution_count": 3,
   "metadata": {
    "collapsed": false
   },
   "outputs": [
    {
     "name": "stdout",
     "output_type": "stream",
     "text": [
      "Numbered cells only: {<E5 30.0>, <E9 8.0>, <E7 88.0>, <A4 1972.0>, <E6 2.0>, <A6 1989.0>, <E8 96.0>, <E4 10.0>}\n",
      "\n",
      "Not numbers: {<B4 'Jan'>, <C6 'yes'>, <D2 ''>, <E2 ''>, <B6 'Feb'>, <A5 ''>, <E1 ''>, <E3 'cost'>, <D3 'Rocks'>, <D8 'basalt'>, <C8 'yes'>, <A9 ''>, <B5 'Aug'>, <A2 'Date'>, <B9 'Dec'>, <D6 'limestone'>, <D1 ''>, <C7 'no'>, <C3 'present'>, <A1 ''>, <B3 'Month'>, <B8 'Jun'>, <B1 ''>, <C2 ''>, <C5 'no'>, <B7 'Mar'>, <B2 ''>, <D5 'granite'>, <A7 ''>, <C4 'yes'>, <C1 ''>, <A3 'Year'>, <C9 'yes'>, <A8 ''>, <D7 'shale'>, <D4 'chalk'>, <D9 'ice'>}\n",
      "\n",
      "Not numbers and not whitespace: {<B4 'Jan'>, <C6 'yes'>, <B6 'Feb'>, <E3 'cost'>, <D3 'Rocks'>, <D8 'basalt'>, <C8 'yes'>, <B5 'Aug'>, <A2 'Date'>, <B9 'Dec'>, <D6 'limestone'>, <C7 'no'>, <C3 'present'>, <B3 'Month'>, <B8 'Jun'>, <C5 'no'>, <B7 'Mar'>, <D5 'granite'>, <C4 'yes'>, <A3 'Year'>, <C9 'yes'>, <D7 'shale'>, <D4 'chalk'>, <D9 'ice'>}\n",
      "\n",
      "Cells that seem to be a date: {<A4 1972.0>, <A6 1989.0>}\n"
     ]
    }
   ],
   "source": [
    "cellbag = tab\n",
    "print(\"Numbered cells only:\", cellbag.is_number())\n",
    "print()\n",
    "print(\"Not numbers:\", cellbag.is_not_number())\n",
    "print()\n",
    "print(\"Not numbers and not whitespace:\", cellbag.is_not_number().is_not_whitespace())\n",
    "print()\n",
    "print(\"Cells that seem to be a date:\", cellbag.is_date())\n"
   ]
  },
  {
   "cell_type": "markdown",
   "metadata": {},
   "source": [
    "### cellbag.filter(word)\n",
    "\n",
    "Only cells matching this word exactly\n",
    "\n",
    "### cellbag.filter(function(cell))\n",
    "\n",
    "Only cells where function(cell) == True\n",
    "\n",
    "\n",
    "### cellbag.one_of([word1, word2])\n",
    "\n",
    "Only cells matching one of the words\n",
    "\n",
    "\n",
    "### cellbag.regex(regexp)\n",
    "\n",
    "Only cell matching one of the words\n",
    "\n",
    "\n",
    "### cellbag.excel_ref(ref)\n",
    "\n",
    "Selects a cell by its excel Column-Row/Letter-Number format where 'A1' is the top left hand corner.\n",
    "\n",
    "This also works for single columns or rows (eg 'C', or '3') and ranges (eg 'A2:B3'). \n",
    "\n",
    "This way of accessing is not recommended unless you know that the spreadsheet you are working with won't have extra rows or columns inserted or deleted from it.  \n",
    "\n",
    "### cellbag.by_index(n)\n",
    "\n",
    "Selects a single cell from the cell bag of index n, where n=1 is the first element.  (n can also be a list of integers.)\n",
    "\n",
    "\n",
    "### cellbag.assert_one()\n",
    "\n",
    "Throws an exception if there is not exactly one cell in this bag (useful for validation if your filter above was supposed to return only one cell)\n",
    "\n",
    "### cellbag.value\n",
    "\n",
    "If `len(cellbag) == 1` then cellbag.value gives the original value within that cell, otherwise it throws an exception.\n"
   ]
  },
  {
   "cell_type": "code",
   "execution_count": 20,
   "metadata": {
    "collapsed": false
   },
   "outputs": [
    {
     "name": "stdout",
     "output_type": "stream",
     "text": [
      "Loading example1.xls which has size 8192 bytes\n",
      "Table names: ['stones']\n",
      "Get some matching cells {<D9 'ice'>, <D3 'Rocks'>}\n",
      "A3 is {<A3 'Year'>}\n",
      "A3:B4 is {<A4 1972.0>, <B4 'Jan'>, <A3 'Year'>, <A2 'Date'>, <B2 ''>, <B3 'Month'>}\n",
      "\n",
      "The second cell in the whole table is {<B1 ''>}\n",
      "Numbers greater than 20 {<A4 1972.0>, <E5 30.0>, <E7 88.0>, <E8 96.0>, <A6 1989.0>}\n",
      "Numbers less than 20 {<E6 2.0>, <E4 10.0>, <E9 8.0>}\n"
     ]
    }
   ],
   "source": [
    "from databaker.framework import *   # restated import so you can run from this cell\n",
    "cellbag = tab = loadxlstabs(\"example1.xls\", sheetids=\"stones\", verbose=True)[0]\n",
    "\n",
    "print(\"Get some matching cells\", cellbag.one_of([\"Rocks\", \"ice\", \"mud\"]))\n",
    "print(\"A3 is\", cellbag.excel_ref(\"A3\"))\n",
    "print(\"A3:B4 is\", cellbag.excel_ref(\"A2:B4\"))\n",
    "print()\n",
    "print(\"The second cell in the whole table is\", tab.by_index(2))\n",
    "\n",
    "ngreater20 = cellbag.is_number().filter(lambda c: c.value>20)\n",
    "nlessthan20 = cellbag.is_number().filter(lambda c: c.value<20)\n",
    "print(\"Numbers greater than 20\", ngreater20)\n",
    "print(\"Numbers less than 20\", nlessthan20)\n",
    "\n",
    "# Uncomment this line to see these selections in contents\n",
    "# savepreviewhtml([ngreater20, nlessthan20])\n"
   ]
  },
  {
   "cell_type": "markdown",
   "metadata": {},
   "source": [
    "### cellbag1.union(cellbag2)\n",
    "\n",
    "Union of two bags.  Can also be expressed as `cellbag1 | cellbag2`\n",
    "\n",
    "### cellbag1.difference(cellbag2)\n",
    "\n",
    "Difference of two bags.  Can also be expressed as `cellbag1 - cellbag2`\n",
    "\n",
    "### cellbag1.difference(cellbag2)\n",
    "\n",
    "Intersection of two bags.  Can also be expressed as `cellbag1 & cellbag2`"
   ]
  },
  {
   "cell_type": "code",
   "execution_count": 121,
   "metadata": {
    "collapsed": false
   },
   "outputs": [
    {
     "name": "stdout",
     "output_type": "stream",
     "text": [
      "colC {<D5 'granite'>, <D3 'Rocks'>, <D4 'chalk'>}\n",
      "rowC {<A4 1972.0>, <D4 'chalk'>, <C4 'yes'>, <B4 'Jan'>}\n",
      "\n",
      "Union is {<D5 'granite'>, <A4 1972.0>, <D3 'Rocks'>, <D4 'chalk'>, <C4 'yes'>, <B4 'Jan'>}\n",
      "Difference is {<D5 'granite'>, <D3 'Rocks'>}\n",
      "Intersection is {<D4 'chalk'>}\n",
      "\n",
      "Union is {<D5 'granite'>, <A4 1972.0>, <D3 'Rocks'>, <D4 'chalk'>, <C4 'yes'>, <B4 'Jan'>}\n",
      "Difference is {<D5 'granite'>, <D3 'Rocks'>}\n",
      "Intersection is {<D4 'chalk'>}\n"
     ]
    }
   ],
   "source": [
    "colC = tab.excel_ref(\"D3:D5\")\n",
    "rowC = tab.excel_ref(\"A4:D4\")\n",
    "print(\"colC\", colC)\n",
    "print(\"rowC\", rowC)\n",
    "print()\n",
    "print(\"Union is\", colC.union(rowC))\n",
    "print(\"Difference is\", colC.difference(rowC))\n",
    "print(\"Intersection is\", colC.intersection(rowC))\n",
    "print()\n",
    "print(\"Union is\", (colC | rowC))\n",
    "print(\"Difference is\", (colC - rowC))\n",
    "print(\"Intersection is\", (colC & rowC))\n"
   ]
  },
  {
   "cell_type": "markdown",
   "metadata": {},
   "source": [
    "### cellbag1.waffle(cellbag2)\n",
    "\n",
    "Get all cells which have a cell from one bag above them, and the other bag to the side. Note that the two bags are interchangable without changing the output. You can change the direction from its default (DOWN) by specifying direction=LEFT or similar.\n",
    "\n",
    "### cellbag1.junction(cellbag2)\n",
    "\n",
    "Enumerates the output of waffle in triplets\n",
    "\n",
    "\n",
    "### cellbag1.same_row(cellbag2)\n",
    "\n",
    "Get cells in this bag which are in the same row as a cell in the second.\n",
    "\n",
    "### cellbag1.same_column(cellbag2)\n",
    "\n",
    "Get cells in this bag which are in the same column as a cell in the second."
   ]
  },
  {
   "cell_type": "code",
   "execution_count": 7,
   "metadata": {
    "collapsed": false
   },
   "outputs": [
    {
     "name": "stdout",
     "output_type": "stream",
     "text": [
      "Waffle:\n"
     ]
    },
    {
     "data": {
      "text/html": [
       "<div id=\"injblock1003\">\n",
       "<style>\n",
       "table.ex, table.exkey { border: thin black solid }\n",
       "table.ex td, table.ex tr { border: none }\n",
       "table.ex td:hover { border: thin blue solid }\n",
       "table.ex td.excOBS:hover { border: thin red solid }\n",
       "table.ex td.selected { border: thick red solid }\n",
       "</style>\n",
       "\n",
       "\n",
       "<table class=\"exkey\">\n",
       "<tr><td class=\"xc1\" style=\"background-color:LightGreen\">item 0</td><td class=\"xc2\" style=\"background-color:MistyRose\">item 1</td><td class=\"xc3\" style=\"background-color:LightGray\">item 2</td></tr></table>\n",
       "\n",
       "<table class=\"ex\">\n",
       "<caption style=\"text-align:center; padding:0px; caption-side:bottom\">stones</caption>\n",
       "<tr><td title=\"0 0\"></td><td title=\"1 0\"></td><td title=\"2 0\"></td><td title=\"3 0\"></td><td title=\"4 0\"></td></tr>\n",
       "<tr><td title=\"0 1\">Date</td><td title=\"1 1\"></td><td style=\"font-weight:bold\" title=\"2 1\"></td><td title=\"3 1\"></td><td title=\"4 1\"></td></tr>\n",
       "<tr><td title=\"0 2\">Year</td><td title=\"1 2\">Month</td><td style=\"font-weight:bold\" title=\"2 2\">present</td><td style=\"background-color:LightGreen\" title=\"3 2\">Rocks</td><td style=\"font-weight:bold\" title=\"4 2\">cost</td></tr>\n",
       "<tr><td title=\"0 3\">1972.0</td><td title=\"1 3\">Jan</td><td title=\"2 3\">yes</td><td title=\"3 3\">chalk</td><td style=\"background-color:LightGreen\" title=\"4 3\">10.0</td></tr>\n",
       "<tr><td title=\"0 4\"></td><td title=\"1 4\">Aug</td><td title=\"2 4\">no</td><td title=\"3 4\">granite</td><td title=\"4 4\">30.0</td></tr>\n",
       "<tr><td style=\"background-color:MistyRose\" title=\"0 5\">1989.0</td><td title=\"1 5\">Feb</td><td title=\"2 5\">yes</td><td style=\"background-color:LightGray\" title=\"3 5\">limestone</td><td style=\"background-color:LightGray\" title=\"4 5\">2.0</td></tr>\n",
       "<tr><td style=\"background-color:MistyRose\" title=\"0 6\"></td><td title=\"1 6\">Mar</td><td title=\"2 6\">no</td><td style=\"background-color:LightGray\" title=\"3 6\">shale</td><td style=\"background-color:LightGray\" title=\"4 6\">88.0</td></tr>\n",
       "<tr><td title=\"0 7\"></td><td title=\"1 7\">Jun</td><td title=\"2 7\">yes</td><td title=\"3 7\">basalt</td><td title=\"4 7\">96.0</td></tr>\n",
       "<tr><td title=\"0 8\"></td><td title=\"1 8\">Dec</td><td title=\"2 8\">yes</td><td title=\"3 8\">ice</td><td title=\"4 8\">8.0</td></tr>\n",
       "</table>\n",
       "\n",
       "</div>\n"
      ],
      "text/plain": [
       "<IPython.core.display.HTML object>"
      ]
     },
     "metadata": {},
     "output_type": "display_data"
    }
   ],
   "source": [
    "c = tab.excel_ref(\"D3\") | tab.excel_ref(\"E4\")\n",
    "d = tab.excel_ref(\"A6:A7\")\n",
    "print(\"Waffle:\")\n",
    "savepreviewhtml([c,d, c.waffle(d)])"
   ]
  },
  {
   "cell_type": "code",
   "execution_count": 123,
   "metadata": {
    "collapsed": false
   },
   "outputs": [
    {
     "name": "stdout",
     "output_type": "stream",
     "text": [
      "Junction output:\n",
      "   ({<D3 'Rocks'>}, {<A6 1989.0>}, {<D6 'limestone'>})\n",
      "   ({<D3 'Rocks'>}, {<A7 ''>}, {<D7 'shale'>})\n",
      "   ({<E4 10.0>}, {<A6 1989.0>}, {<E6 2.0>})\n",
      "   ({<E4 10.0>}, {<A7 ''>}, {<E7 88.0>})\n"
     ]
    }
   ],
   "source": [
    "print(\"Junction output:\")\n",
    "for s in c.junction(d):\n",
    "    print(\"  \", s)"
   ]
  },
  {
   "cell_type": "code",
   "execution_count": 128,
   "metadata": {
    "collapsed": false
   },
   "outputs": [
    {
     "name": "stdout",
     "output_type": "stream",
     "text": [
      "Cells column A that are in same row as {<D3 'Rocks'>, <E4 10.0>} are {<A4 1972.0>, <A3 'Year'>}\n",
      "Cells column 7 that are in same column as {<D3 'Rocks'>, <E4 10.0>} are {<D7 'shale'>, <E7 88.0>}\n"
     ]
    }
   ],
   "source": [
    "print(\"Cells column A that are in same row as\", c, \"are\", tab.excel_ref(\"A\").same_row(c))\n",
    "print(\"Cells column 7 that are in same column as\", c, \"are\", tab.excel_ref(\"7\").same_col(c))"
   ]
  },
  {
   "cell_type": "markdown",
   "metadata": {},
   "source": [
    "### cellbag.shift(direction)\n",
    "\n",
    "Move the selected cells UP, DOWN, LEFT or Right by one cell\n",
    "\n",
    "### cellbag.shift((dx, dy))\n",
    "\n",
    "Move the selected cells dx cells to RIGHT and dy cells DOWN (can have negative values)\n",
    "\n",
    "\n",
    "### cellbag.fill(direction)\n",
    "\n",
    "Take all the cells in one direction from the given cellbag\n",
    "\n",
    "### cellbag.expand(direction)\n",
    "\n",
    "All the cells in one direction, including itself.\n",
    "\n",
    "### cellbag.extrude(dx, dy)\n",
    "\n",
    "Step and include this many cells between 0 and dx and dy.\n"
   ]
  },
  {
   "cell_type": "code",
   "execution_count": 120,
   "metadata": {
    "collapsed": false
   },
   "outputs": [
    {
     "name": "stdout",
     "output_type": "stream",
     "text": [
      "Shift RIGHT from {<B4 'Jan'>} is {<C4 'yes'>}\n",
      "Shift (-1,-2) from {<B4 'Jan'>} is {<A2 'Date'>}\n",
      "Fill UP from {<B4 'Jan'>} is {<B3 'Month'>, <B1 ''>, <B2 ''>}\n",
      "Expand UP from {<B4 'Jan'>} is {<B3 'Month'>, <B4 'Jan'>, <B1 ''>, <B2 ''>}\n",
      "\n",
      "How it works: UP= (0, -1)   DOWN= (0, 1)   LEFT= (-1, 0)   RIGHT= (1, 0)\n",
      "\n",
      "Extrude two cells rightwards {<D4 'chalk'>, <C4 'yes'>, <B4 'Jan'>}\n"
     ]
    }
   ],
   "source": [
    "c = tab.excel_ref(\"B4\")\n",
    "print(\"Shift RIGHT from\", c, \"is\", c.shift(RIGHT))\n",
    "print(\"Shift (-1,-2) from\", c, \"is\", c.shift((-1, -2)))\n",
    "print(\"Fill UP from\", c, \"is\", c.fill(UP))\n",
    "print(\"Expand UP from\", c, \"is\", c.expand(UP))\n",
    "print()\n",
    "print(\"How it works: UP=\", UP, \"  DOWN=\", DOWN, \"  LEFT=\", LEFT, \"  RIGHT=\", RIGHT)\n",
    "print()\n",
    "print(\"Extrude two cells rightwards\", c.extrude(2,0))"
   ]
  },
  {
   "cell_type": "markdown",
   "metadata": {},
   "source": [
    "# Dimensions\n",
    "A dimension is simply a cellbag with a label and a lookup direction applied to it.  \n",
    "\n",
    "Each dimension represents a column in the output table and basically contains the instructions for how to look up to the corresponding value given a particular cell in the set of observations.\n",
    "\n",
    "\n",
    "### hdim = HDim(cellbag, label, strict=[DIRECTLY|CLOSEST], direction=[ABOVE|BELOW|LEFT|RIGHT])\n",
    "\n",
    "The main constructor, taking a set of cells, a string name (label), look up condition and lookup directions.   \n",
    "\n",
    "The lookup conditions are:\n",
    "* CLOSEST (gets the *first* cell in the same column or row as the observation in a specified direction);\n",
    "* DIRECTLY (gets the *closest* cell in the same column or row as the observation in a specified direction).\n",
    "\n",
    "\n",
    "### hdim.cellvalobs(cell)\n",
    "\n",
    "This function looks up the value of an individual cell in `hdim.hbagset` (defined in the constructor) according to the lookup condition and direction, and returns the pair `(cell, value)`  The `value` will always be `cell.value`, unless it has been overridden by some member of `hdim.cellvalueoverride`.\n",
    "\n",
    "\n",
    "### hdim.AddCellValueOverride(overridecell, overridevalue)\n",
    "\n",
    "This function is an interface to changing the return values alters the `hdim.cellvalueoverride`.  It can be used to change the spellings of particular dimension values or to insert new heading cells in place of blank ones.  \n",
    "\n",
    "Inserting header cells is sometimes necessary when a heading is centred and you can't look it up with a single `(strict=CLOSEST, direction=LEFT|RIGHT)` command.  (The `direction=NEAREST` feature proved unreliable in the real world.) \n",
    "\n",
    "\n",
    "### hdim.discardcellsnotlookedup(observationcells)\n",
    "\n",
    "This function uses a set of observation cells to thin out the list of dimension cells `hdim.hbagset` to only those which can be looked up.  Can be used to quickly trim out footnote in the bottom of a column that don't make any difference to the final output while making validation easier (see `hdim.checkvalues` below).\n",
    "\n",
    "\n",
    "### hdim.valueslist()\n",
    "\n",
    "Use this function to print the final heading cells values (the values in `hdim.hbagset` after they are overridden by `hdim.cellvalueoverride` for use in making the validation checks.\n",
    "\n",
    "\n",
    "### hdim.checkvalues(valueslist)\n",
    "\n",
    "This validates the dimension values against a hard-coded values list that has been generated earlier by `hdim.valueslist()` and throws an exception with an explanation if they are different.  \n",
    "\n",
    "Use this function if you need to run your code against different spreadsheets and need to check that the outputs are going to be consistent.\n",
    "\n",
    "\n",
    "### hdimc = HDimConst(label, value)\n",
    "\n",
    "Create a constant dimension that will give the same value no matter what the observation is looked up.\n",
    "\n"
   ]
  },
  {
   "cell_type": "code",
   "execution_count": 24,
   "metadata": {
    "collapsed": false
   },
   "outputs": [
    {
     "name": "stdout",
     "output_type": "stream",
     "text": [
      "{<D4 'chalk'>, <D8 'basalt'>, <D5 'granite'>, <D7 'shale'>, <D9 'ice'>, <D6 'limestone'>}\n"
     ]
    }
   ],
   "source": [
    "from databaker.framework import *\n",
    "tab = loadxlstabs(\"example1.xls\", sheetids=\"stones\", verbose=False)[0]\n",
    "\n",
    "rocks = tab.filter(\"Rocks\").fill(DOWN)\n",
    "years = tab.filter(\"Year\").fill(DOWN).is_not_whitespace()\n",
    "cost = tab.filter(\"cost\").fill(DOWN)\n",
    "print(rocks)\n",
    "\n",
    "# savepreviewhtml([rocks, years, cost])  # <-- uncomment this line to see the table"
   ]
  },
  {
   "cell_type": "code",
   "execution_count": 31,
   "metadata": {
    "collapsed": false
   },
   "outputs": [
    {
     "name": "stdout",
     "output_type": "stream",
     "text": [
      "{<E4 10.0>} \t (<A4 1972.0>, '1972.0') \t (<D4 'chalk'>, 'chalk')\n",
      "{<E5 30.0>} \t (<A4 1972.0>, '1972.0') \t (<D5 'granite'>, 'gneiss')\n",
      "{<E6 2.0>} \t (<A6 1989.0>, '1989.0') \t (<D6 'limestone'>, 'limestone')\n",
      "{<E7 88.0>} \t (<A6 1989.0>, '1989.0') \t (<D7 'shale'>, 'shale')\n",
      "{<E8 96.0>} \t (<A6 1989.0>, '1989.0') \t (<D8 'basalt'>, 'basalt')\n",
      "{<E9 8.0>} \t (<A6 1989.0>, '1989.0') \t (<D9 'ice'>, 'ice')\n"
     ]
    }
   ],
   "source": [
    "hrocks = HDim(rocks, \"ROCKS!\", DIRECTLY, LEFT)\n",
    "hrocks.AddCellValueOverride(\"granite\", \"gneiss\")\n",
    "hyears = HDim(years, \"yyyy\", CLOSEST, UP)\n",
    "\n",
    "for ob in cost:\n",
    "    print(ob, \"\\t\", hyears.cellvalobs(ob), \"\\t\", hrocks.cellvalobs(ob))\n",
    "\n",
    "# savepreviewhtml([hrocks, hyears, cost])  # <-- uncomment to see as a coloured table"
   ]
  },
  {
   "cell_type": "markdown",
   "metadata": {},
   "source": [
    "# Conversion Segments\n",
    "\n",
    "A ConversionSegment is a set of observations together with a list of Dimensions\n",
    "\n",
    "\n",
    "### ConversionSegment(observations, dimensions)\n",
    "\n",
    "Constructor for the ConversionSegment, where `observations` is a bag of cells and `dimensions` is a list of `HDim` and `HDimConst` dimension objects.  You can construct the dimensions at the same time as defining the list at the point when you call this function.  \n",
    "\n",
    "\n",
    "### ConversionSegment(observations, dimensions, processTIMEUNIT=True, includecellxy=False)\n",
    "\n",
    "Two default parameters in the ConversionSegment constructor.  `processTIMEUNIT` controls whether a dimension called TIME should be used to automatically set the dimension known as TIMEUNIT.  This is required by the WDA output, however its operation can be implemented in pandas.  \n",
    "\n",
    "`includecellxy` causes the output to include three extra columns, `[__x, __y, __tablename]` which can be used for debugging purposes.  \n",
    "\n",
    "### conversionsegment.topandas()\n",
    "\n",
    "Turns a ConversionSegment into a [pandas.DataFrame](http://pandas.pydata.org/), which is an extremely powerful, efficient and widely used data manipulation library.  \n",
    "\n",
    "This marks the place where you depart cleanly from the Databaker library and can go on to further analysis, or it's a temporary entry into a system where the data can be fixed up before outputting it to the WDA format.  \n",
    "\n",
    "\n",
    "### savepreviewhtml(conversionsegment, htmlfilename=None, verbose=True)\n",
    "\n",
    "This function is restated from the Loading-and-saving section to remind you that when you use it on a ConversionSegment the Observation cells are interactive -- click on one to highlight the dimension cells it is looking up to.\n",
    "\n",
    "Also, overridden values are illustrated by strike-throughs.\n",
    "\n",
    "\n",
    "### writetechnicalCSV(outputfile, conversionsegments) \n",
    "\n",
    "This function is also restated from the Loading-and-saving section for saving a WDA output file.  The argument can be a single ConversionSegment, a list of ConversionSegments or a list of pandas.DataFrames (which have been cleaned up).  \n",
    "\n",
    "\n",
    "### Special WDA dimensions\n",
    "\n",
    "The WDA format contains the following special dimension columns that are output at the front of every row.  They are identified by their dimension labels.\n",
    "\n",
    "For convenience, the variable names have been set to their string names, ie \n",
    "> `STATUNIT = \"STATUNIT\"`\n",
    "\n",
    "See the WDA documentation for their specific uses.  \n",
    "\n",
    "* OBS - This is not a dimension; it's the observation column.  Do not name a dimension as \"OBS\"\n",
    "* DATAMARKER - If OBS is not a number, then the non-numeric part is stripped off and put into the DATAMARKER column\n",
    "* STATUNIT \n",
    "* MEASURETYPE \n",
    "* UNITMULTIPLIER \n",
    "* UNITOFMEASURE\n",
    "* GEOG\n",
    "* TIME - Of the form \"2010\", \"2010 Q1\" or \"Jan 2010\"\n",
    "* TIMEUNIT - \"Year\", \"Quarter\", \"Month\" respectively\n",
    "* STATPOP\n",
    "\n",
    "\n",
    "### pdguessforceTIMEUNIT(dataframe)\n",
    "\n",
    "Find and set the TIMEUNIT column from the TIME column in a pandas.DataFrame.  This function has two lines.  The first line matches the unit from the TIME value:\n",
    "```python\n",
    "df[\"TIMEUNIT\"] = df.apply(lambda row: Ldatetimeunitloose(row.TIME), axis=1)\n",
    "```\n",
    "The second line forces the TIME value to conform to the exact format required by the WDA file, given the TIMEUNIT\n",
    "```python\n",
    "df[\"TIME\"] = df.apply(lambda row: Ldatetimeunitforce(row.TIME, row.TIMEUNIT), axis=1)\n"
   ]
  },
  {
   "cell_type": "code",
   "execution_count": 39,
   "metadata": {
    "collapsed": false
   },
   "outputs": [
    {
     "name": "stdout",
     "output_type": "stream",
     "text": [
      "2017.0 is\t Year corrected to\t 2017\n",
      "Q32017 is\t Quarter corrected to\t 2017 Q3\n",
      "Mar  2017 is\t Month corrected to\t Mar 2017\n"
     ]
    }
   ],
   "source": [
    "from databaker.framework import *\n",
    "\n",
    "times = [2017.0, \"Q32017\", \"Mar  2017\"]\n",
    "for t in times:\n",
    "    print(t, \"is\\t\", Ldatetimeunitloose(t), \"corrected to\\t\", Ldatetimeunitforce(t, Ldatetimeunitloose(t)))\n"
   ]
  },
  {
   "cell_type": "code",
   "execution_count": 9,
   "metadata": {
    "collapsed": false
   },
   "outputs": [
    {
     "name": "stdout",
     "output_type": "stream",
     "text": [
      "\n",
      "observation,data_marking,statistical_unit_eng,statistical_unit_cym,measure_type_eng,measure_type_cym,observation_type,empty,obs_type_value,unit_multiplier,unit_of_measure_eng,unit_of_measure_cym,confidentuality,empty1,geographic_area,empty2,empty3,time_dim_item_id,time_dim_item_label_eng,time_dim_item_label_cym,time_type,empty4,statistical_population_id,statistical_population_label_eng,statistical_population_label_cym,cdid,cdiddescrip,empty5,empty6,empty7,empty8,empty9,empty10,empty11,empty12\r\n",
      "10.0,,,,,,,,,,,,,,,,,Jan 1972,Jan 1972,,Month,,,,,,,,,,,,,0,\r\n",
      "30.0,,,,,,,,,,,,,,,,,Aug 1972,Aug 1972,,Month,,,,,,,,,,,,,0,\r\n",
      "2.0,,,,,,,,,,,,,,,,,Feb 1989,Feb 1989,,Month,,,,,,,,,,,,,0,\r\n",
      "88.0,,,,,,,,,,,,,,,,,Mar 1989,Mar 1989,,Month,,,,,,,,,,,,,0,\r\n",
      "96.0,,,,,,,,,,,,,,,,,Jun 1989,Jun 1989,,Month,,,,,,,,,,,,,0,\r\n",
      "8.0,,,,,,,,,,,,,,,,,Dec 1989,Dec 1989,,Month,,,,,,,,,,,,,0,\r\n",
      "*********,6\r\n",
      "\n"
     ]
    }
   ],
   "source": [
    "from databaker.framework import *\n",
    "tab = loadxlstabs(\"example1.xls\", sheetids=\"stones\", verbose=False)[0]\n",
    "\n",
    "cs = ConversionSegment(tab.filter(\"cost\").fill(DOWN), [\n",
    "        HDim(tab.filter(\"Year\").fill(DOWN).is_not_whitespace(), \"year\", CLOSEST, UP),\n",
    "        HDim(tab.filter(\"Month\").fill(DOWN).is_not_whitespace(), \"month\", DIRECTLY, LEFT)\n",
    "    ])\n",
    "\n",
    "\n",
    "###################\n",
    "# savepreviewhtml(cs)   # <-- uncomment this to see the interactive table\n",
    "\n",
    "dcs = cs.topandas()\n",
    "# print(dcs)   # uncomment to see the table\n",
    "\n",
    "# concatenate the month and year into a time\n",
    "dcs[\"TIME\"] = dcs.month + \" \" + dcs.year\n",
    "pdguessforceTIMEUNIT(dcs)   # <-- fixes the date format (removing the '.0's on the years)\n",
    "# print(dcs)   # uncomment to see the table at this point\n",
    "\n",
    "# delete the now redundant columns \n",
    "dcs.drop(['year', \"month\"], axis=1, inplace=True)\n",
    "#print(dcs)  # uncomment to see pandas table\n",
    "\n",
    "# Output the finished WDA file where the dates should all work!\n",
    "print(writetechnicalCSV(None, dcs))"
   ]
  },
  {
   "cell_type": "markdown",
   "metadata": {},
   "source": [
    "# Downloading excel and unzipping files\n",
    "\n",
    "Can be done if you use the libraries"
   ]
  },
  {
   "cell_type": "code",
   "execution_count": null,
   "metadata": {
    "collapsed": true
   },
   "outputs": [],
   "source": [
    "# code from Bau_construct that needs tuning down\n",
    "\n",
    "    ddurl = \"https://www.ons.gov.uk/businessindustryandtrade/constructionindustry/datasets/outputintheconstructionindustry/current\"\n",
    "    print(\"Loading index page\\n\", ddurl)\n",
    "    req1 = urllib.request.Request(ddurl, headers={'User-Agent' : \"Sensible code\"}) \n",
    "    xpage = urllib.request.urlopen(req1).read().decode(\"utf8\")\n",
    "    \n",
    "    xll = re.findall('href=\"(/file\\?uri=/businessindustryandtrade.*?/([^/\"]*\\.xls))\"', xpage)\n",
    "    \n",
    "    for xl, xln in xll:\n",
    "        lxln = os.path.join(xddir, xln)\n",
    "        if os.path.exists(lxln):\n",
    "            continue\n",
    "        print(\"Downloading\", xln)\n",
    "        furl = urllib.parse.urljoin(ddurl, xl)\n",
    "        req = urllib.request.Request(furl, headers={'User-Agent' : \"Sensible code\"}) \n",
    "        xp = urllib.request.urlopen(req).read()\n",
    "        fout = open(lxln, \"wb\")\n",
    "        fout.write(xp)\n",
    "        fout.close()\n"
   ]
  }
 ],
 "metadata": {
  "kernelspec": {
   "display_name": "Python 3",
   "language": "python",
   "name": "python3"
  },
  "language_info": {
   "codemirror_mode": {
    "name": "ipython",
    "version": 3
   },
   "file_extension": ".py",
   "mimetype": "text/x-python",
   "name": "python",
   "nbconvert_exporter": "python",
   "pygments_lexer": "ipython3",
   "version": "3.5.2"
  }
 },
 "nbformat": 4,
 "nbformat_minor": 1
}
