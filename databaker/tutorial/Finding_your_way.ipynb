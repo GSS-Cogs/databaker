{
 "cells": [
  {
   "cell_type": "markdown",
   "metadata": {},
   "source": [
    "# Opening and previewing\n",
    "\n",
    "This uses the tiny excel spreadsheet example1.xls.  It is small enough to preview inline in this notebook.  But for bigger spreadsheet tables you will want to open them up in a separate window."
   ]
  },
  {
   "cell_type": "code",
   "execution_count": 1,
   "metadata": {
    "collapsed": false
   },
   "outputs": [
    {
     "name": "stdout",
     "output_type": "stream",
     "text": [
      "Loading example1.xls which has size 7168 bytes\n",
      "Table names: ['beatles', 'stones']\n",
      "The unordered bag of cells for this table looks like:\n",
      "{<B4 2.0>, <C6 1.0>, <D1 ''>, <B5 4.0>, <C5 3.0>, <C1 ''>, <B3 'Cars'>, <D3 'Trains'>, <C2 ''>, <D4 1.0>, <D6 3.0>, <B6 4.0>, <D5 2.0>, <B2 ''>, <A1 'Date'>, <B1 2014.0>, <C7 5.0>, <A7 'George'>, <A6 'Ringo'>, <A3 ''>, <A2 ''>, <C4 2.0>, <A4 'John'>, <C3 'Planes'>, <D7 5.0>, <D2 ''>, <A5 'Paul'>, <B7 2.0>}\n"
     ]
    }
   ],
   "source": [
    "\n",
    "# Load in the functions\n",
    "from databaker.framework import *\n",
    "\n",
    "# Load the spreadsheet\n",
    "tabs = loadxlstabs(\"example1.xls\")\n",
    "\n",
    "# Select the first table\n",
    "tab = tabs[0]\n",
    "\n",
    "print(\"The unordered bag of cells for this table looks like:\")\n",
    "print(tab)"
   ]
  },
  {
   "cell_type": "markdown",
   "metadata": {},
   "source": [
    "# Selecting cell bags\n",
    "\n",
    "A table is also \"bag of cells\", which just so happens to be a set of all the cells in the table.  \n",
    "\n",
    "A \"bag of cells\" is like a Python set (and looks like one when you print it), but it has extra selection functions that help you navigate around the table.\n",
    "\n",
    "We will learn these as we go along, but you can see the full list on the tutorial_reference notebook.\n"
   ]
  },
  {
   "cell_type": "code",
   "execution_count": 2,
   "metadata": {
    "collapsed": false
   },
   "outputs": [
    {
     "data": {
      "text/html": [
       "<div id=\"injblock1001\">\n",
       "<style>\n",
       "table.ex, table.exkey { border: thin black solid }\n",
       "table.ex td, table.ex tr { border: none }\n",
       "table.ex td:hover { border: thin blue solid }\n",
       "table.ex td.excOBS:hover { border: thin red solid }\n",
       "table.ex td.selected { border: thick red solid }\n",
       "</style>\n",
       "\n",
       "\n",
       "\n",
       "<table class=\"ex\">\n",
       "<caption style=\"text-align:center; padding:0px; caption-side:bottom\">beatles</caption>\n",
       "<tr><td title=\"0 0\">Date</td><td title=\"1 0\">2014.0</td><td title=\"2 0\"></td><td title=\"3 0\"></td></tr>\n",
       "<tr><td title=\"0 1\"></td><td title=\"1 1\"></td><td title=\"2 1\"></td><td title=\"3 1\"></td></tr>\n",
       "<tr><td title=\"0 2\"></td><td title=\"1 2\">Cars</td><td style=\"font-weight:bold\" title=\"2 2\">Planes</td><td style=\"font-weight:bold\" title=\"3 2\">Trains</td></tr>\n",
       "<tr><td title=\"0 3\">John</td><td title=\"1 3\">2.0</td><td title=\"2 3\">2.0</td><td title=\"3 3\">1.0</td></tr>\n",
       "<tr><td title=\"0 4\">Paul</td><td title=\"1 4\">4.0</td><td title=\"2 4\">3.0</td><td title=\"3 4\">2.0</td></tr>\n",
       "<tr><td title=\"0 5\">Ringo</td><td title=\"1 5\">4.0</td><td title=\"2 5\">1.0</td><td title=\"3 5\">3.0</td></tr>\n",
       "<tr><td title=\"0 6\">George</td><td title=\"1 6\">2.0</td><td title=\"2 6\">5.0</td><td title=\"3 6\">5.0</td></tr>\n",
       "</table>\n",
       "\n",
       "</div>\n"
      ],
      "text/plain": [
       "<IPython.core.display.HTML object>"
      ]
     },
     "metadata": {},
     "output_type": "display_data"
    }
   ],
   "source": [
    "# Preview the table as a table inline\n",
    "savepreviewhtml(tab)"
   ]
  },
  {
   "cell_type": "code",
   "execution_count": 3,
   "metadata": {
    "collapsed": false
   },
   "outputs": [
    {
     "name": "stdout",
     "output_type": "stream",
     "text": [
      "The cells with bold font are {<C3 'Planes'>, <D3 'Trains'>}\n"
     ]
    }
   ],
   "source": [
    "bb = tab.is_bold()\n",
    "print(\"The cells with bold font are\", bb)"
   ]
  },
  {
   "cell_type": "code",
   "execution_count": 4,
   "metadata": {
    "collapsed": false
   },
   "outputs": [
    {
     "name": "stdout",
     "output_type": "stream",
     "text": [
      "The 2 cells immediately below these bold font cells are {<C4 2.0>, <D4 1.0>}\n"
     ]
    }
   ],
   "source": [
    "print(\"The\", len(bb), \"cells immediately below these bold font cells are\", bb.shift(DOWN))"
   ]
  },
  {
   "cell_type": "code",
   "execution_count": 5,
   "metadata": {
    "collapsed": false
   },
   "outputs": [
    {
     "name": "stdout",
     "output_type": "stream",
     "text": [
      "The single cell with the text 'Cars' is {<B3 'Cars'>}\n"
     ]
    },
    {
     "data": {
      "text/plain": [
       "{<B3 'Cars'>}"
      ]
     },
     "execution_count": 5,
     "metadata": {},
     "output_type": "execute_result"
    }
   ],
   "source": [
    "cc = tab.filter(\"Cars\")\n",
    "print(\"The single cell with the text 'Cars' is\", cc)\n",
    "\n",
    "cc.assert_one()   # proves there is only one cell in this bag"
   ]
  },
  {
   "cell_type": "code",
   "execution_count": 6,
   "metadata": {
    "collapsed": false
   },
   "outputs": [
    {
     "name": "stdout",
     "output_type": "stream",
     "text": [
      "Everything in the column below the 'Cars' cell is {<B7 2.0>, <B6 4.0>, <B5 4.0>, <B4 2.0>}\n"
     ]
    }
   ],
   "source": [
    "print(\"Everything in the column below the 'Cars' cell is\", cc.fill(DOWN))"
   ]
  },
  {
   "cell_type": "code",
   "execution_count": 7,
   "metadata": {
    "collapsed": false
   },
   "outputs": [
    {
     "name": "stdout",
     "output_type": "stream",
     "text": [
      "If you wanted to include the 'Cars' heading, then use expand {<B3 'Cars'>, <B7 2.0>, <B6 4.0>, <B5 4.0>, <B4 2.0>}\n"
     ]
    }
   ],
   "source": [
    "hcc = tab.filter(\"Cars\").expand(DOWN)\n",
    "print(\"If you wanted to include the 'Cars' heading, then use expand\", hcc)"
   ]
  },
  {
   "cell_type": "code",
   "execution_count": 8,
   "metadata": {
    "collapsed": false
   },
   "outputs": [
    {
     "name": "stdout",
     "output_type": "stream",
     "text": [
      "You can print the cells in row-column order if you don't mind unfriendly code\n",
      "[<B3 'Cars'>, <B4 2.0>, <B5 4.0>, <B6 4.0>, <B7 2.0>]\n"
     ]
    }
   ],
   "source": [
    "print(\"You can print the cells in row-column order if you don't mind unfriendly code\")\n",
    "shcc = sorted(hcc.unordered_cells, key=lambda Cell:(Cell.y, Cell.x))\n",
    "print(shcc)"
   ]
  },
  {
   "cell_type": "code",
   "execution_count": 9,
   "metadata": {
    "collapsed": false
   },
   "outputs": [
    {
     "name": "stdout",
     "output_type": "stream",
     "text": [
      "It can be easier to see the set of cells coloured within the table\n"
     ]
    },
    {
     "data": {
      "text/html": [
       "<div id=\"injblock1002\">\n",
       "<style>\n",
       "table.ex, table.exkey { border: thin black solid }\n",
       "table.ex td, table.ex tr { border: none }\n",
       "table.ex td:hover { border: thin blue solid }\n",
       "table.ex td.excOBS:hover { border: thin red solid }\n",
       "table.ex td.selected { border: thick red solid }\n",
       "</style>\n",
       "\n",
       "\n",
       "<table class=\"exkey\">\n",
       "<tr><td class=\"xc1\" style=\"background-color:LightGreen\">item 0</td></tr></table>\n",
       "\n",
       "<table class=\"ex\">\n",
       "<caption style=\"text-align:center; padding:0px; caption-side:bottom\">beatles</caption>\n",
       "<tr><td title=\"0 0\">Date</td><td title=\"1 0\">2014.0</td><td title=\"2 0\"></td><td title=\"3 0\"></td></tr>\n",
       "<tr><td title=\"0 1\"></td><td title=\"1 1\"></td><td title=\"2 1\"></td><td title=\"3 1\"></td></tr>\n",
       "<tr><td title=\"0 2\"></td><td style=\"background-color:LightGreen\" title=\"1 2\">Cars</td><td style=\"font-weight:bold\" title=\"2 2\">Planes</td><td style=\"font-weight:bold\" title=\"3 2\">Trains</td></tr>\n",
       "<tr><td title=\"0 3\">John</td><td style=\"background-color:LightGreen\" title=\"1 3\">2.0</td><td title=\"2 3\">2.0</td><td title=\"3 3\">1.0</td></tr>\n",
       "<tr><td title=\"0 4\">Paul</td><td style=\"background-color:LightGreen\" title=\"1 4\">4.0</td><td title=\"2 4\">3.0</td><td title=\"3 4\">2.0</td></tr>\n",
       "<tr><td title=\"0 5\">Ringo</td><td style=\"background-color:LightGreen\" title=\"1 5\">4.0</td><td title=\"2 5\">1.0</td><td title=\"3 5\">3.0</td></tr>\n",
       "<tr><td title=\"0 6\">George</td><td style=\"background-color:LightGreen\" title=\"1 6\">2.0</td><td title=\"2 6\">5.0</td><td title=\"3 6\">5.0</td></tr>\n",
       "</table>\n",
       "\n",
       "</div>\n"
      ],
      "text/plain": [
       "<IPython.core.display.HTML object>"
      ]
     },
     "metadata": {},
     "output_type": "display_data"
    }
   ],
   "source": [
    "print(\"It can be easier to see the set of cells coloured within the table\")\n",
    "savepreviewhtml(hcc)"
   ]
  },
  {
   "cell_type": "markdown",
   "metadata": {},
   "source": [
    "**Note**: As you work through this tutorial, do please feel free to temporarily insert new Jupyter-Cells in order to give yourself a place to experiment with any of the functions that are available.  (Remember, the value of the last line in a Jupyter-Cell is always printed out -- in addition to any earlier print-statements.)\n"
   ]
  },
  {
   "cell_type": "code",
   "execution_count": 10,
   "metadata": {
    "collapsed": false
   },
   "outputs": [
    {
     "data": {
      "text/plain": [
       "(\"All the cells that have an 'o' in them:\",\n",
       " {<A6 'Ringo'>, <A4 'John'>, <A7 'George'>})"
      ]
     },
     "execution_count": 10,
     "metadata": {},
     "output_type": "execute_result"
    }
   ],
   "source": [
    "\"All the cells that have an 'o' in them:\", tab.regex(\".*?o\")"
   ]
  },
  {
   "cell_type": "markdown",
   "metadata": {},
   "source": [
    "# Observations and dimensions\n",
    "Let's get on with some actual work.  In our terminology, an \"Observation\" is a numerical measure (eg anything in the 3x4 array of numbers in the example table), and a \"Dimension\" is one of the headings.\n",
    "\n",
    "Both are made up of a bag of cells, however a Dimension also needs to know how to \"look up\" from the Observation to its dimensional value."
   ]
  },
  {
   "cell_type": "code",
   "execution_count": 11,
   "metadata": {
    "collapsed": false
   },
   "outputs": [
    {
     "data": {
      "text/html": [
       "<div id=\"injblock1003\">\n",
       "<style>\n",
       "table.ex, table.exkey { border: thin black solid }\n",
       "table.ex td, table.ex tr { border: none }\n",
       "table.ex td:hover { border: thin blue solid }\n",
       "table.ex td.excOBS:hover { border: thin red solid }\n",
       "table.ex td.selected { border: thick red solid }\n",
       "</style>\n",
       "\n",
       "\n",
       "<table class=\"exkey\">\n",
       "<tr><td class=\"xc1\" style=\"background-color:LightGreen\">item 0</td></tr></table>\n",
       "\n",
       "<table class=\"ex\">\n",
       "<caption style=\"text-align:center; padding:0px; caption-side:bottom\">beatles</caption>\n",
       "<tr><td title=\"0 0\">Date</td><td title=\"1 0\">2014.0</td><td title=\"2 0\"></td><td title=\"3 0\"></td></tr>\n",
       "<tr><td title=\"0 1\"></td><td title=\"1 1\"></td><td title=\"2 1\"></td><td title=\"3 1\"></td></tr>\n",
       "<tr><td title=\"0 2\"></td><td title=\"1 2\">Cars</td><td style=\"font-weight:bold\" title=\"2 2\">Planes</td><td style=\"font-weight:bold\" title=\"3 2\">Trains</td></tr>\n",
       "<tr><td title=\"0 3\">John</td><td style=\"background-color:LightGreen\" title=\"1 3\">2.0</td><td style=\"background-color:LightGreen\" title=\"2 3\">2.0</td><td style=\"background-color:LightGreen\" title=\"3 3\">1.0</td></tr>\n",
       "<tr><td title=\"0 4\">Paul</td><td style=\"background-color:LightGreen\" title=\"1 4\">4.0</td><td style=\"background-color:LightGreen\" title=\"2 4\">3.0</td><td style=\"background-color:LightGreen\" title=\"3 4\">2.0</td></tr>\n",
       "<tr><td title=\"0 5\">Ringo</td><td style=\"background-color:LightGreen\" title=\"1 5\">4.0</td><td style=\"background-color:LightGreen\" title=\"2 5\">1.0</td><td style=\"background-color:LightGreen\" title=\"3 5\">3.0</td></tr>\n",
       "<tr><td title=\"0 6\">George</td><td style=\"background-color:LightGreen\" title=\"1 6\">2.0</td><td style=\"background-color:LightGreen\" title=\"2 6\">5.0</td><td style=\"background-color:LightGreen\" title=\"3 6\">5.0</td></tr>\n",
       "</table>\n",
       "\n",
       "</div>\n"
      ],
      "text/plain": [
       "<IPython.core.display.HTML object>"
      ]
     },
     "metadata": {},
     "output_type": "display_data"
    }
   ],
   "source": [
    "# We get the array of observations by selecting its corner and expanding down and to the right\n",
    "obs = tab.excel_ref('B4').expand(DOWN).expand(RIGHT)\n",
    "savepreviewhtml(obs)"
   ]
  },
  {
   "cell_type": "code",
   "execution_count": 12,
   "metadata": {
    "collapsed": false
   },
   "outputs": [
    {
     "data": {
      "text/html": [
       "<div id=\"injblock1004\">\n",
       "<style>\n",
       "table.ex, table.exkey { border: thin black solid }\n",
       "table.ex td, table.ex tr { border: none }\n",
       "table.ex td:hover { border: thin blue solid }\n",
       "table.ex td.excOBS:hover { border: thin red solid }\n",
       "table.ex td.selected { border: thick red solid }\n",
       "</style>\n",
       "\n",
       "\n",
       "<table class=\"exkey\">\n",
       "<tr><td class=\"xc1\" style=\"background-color:LightGreen\">item 0</td><td class=\"xc2\" style=\"background-color:MistyRose\">item 1</td></tr></table>\n",
       "\n",
       "<table class=\"ex\">\n",
       "<caption style=\"text-align:center; padding:0px; caption-side:bottom\">beatles</caption>\n",
       "<tr><td title=\"0 0\">Date</td><td title=\"1 0\">2014.0</td><td title=\"2 0\"></td><td title=\"3 0\"></td></tr>\n",
       "<tr><td title=\"0 1\"></td><td title=\"1 1\"></td><td title=\"2 1\"></td><td title=\"3 1\"></td></tr>\n",
       "<tr><td title=\"0 2\"></td><td style=\"background-color:LightGreen\" title=\"1 2\">Cars</td><td style=\"background-color:LightGreen;font-weight:bold\" title=\"2 2\">Planes</td><td style=\"background-color:LightGreen;font-weight:bold\" title=\"3 2\">Trains</td></tr>\n",
       "<tr><td style=\"background-color:MistyRose\" title=\"0 3\">John</td><td title=\"1 3\">2.0</td><td title=\"2 3\">2.0</td><td title=\"3 3\">1.0</td></tr>\n",
       "<tr><td style=\"background-color:MistyRose\" title=\"0 4\">Paul</td><td title=\"1 4\">4.0</td><td title=\"2 4\">3.0</td><td title=\"3 4\">2.0</td></tr>\n",
       "<tr><td style=\"background-color:MistyRose\" title=\"0 5\">Ringo</td><td title=\"1 5\">4.0</td><td title=\"2 5\">1.0</td><td title=\"3 5\">3.0</td></tr>\n",
       "<tr><td style=\"background-color:MistyRose\" title=\"0 6\">George</td><td title=\"1 6\">2.0</td><td title=\"2 6\">5.0</td><td title=\"3 6\">5.0</td></tr>\n",
       "</table>\n",
       "\n",
       "</div>\n"
      ],
      "text/plain": [
       "<IPython.core.display.HTML object>"
      ]
     },
     "metadata": {},
     "output_type": "display_data"
    }
   ],
   "source": [
    "# the two main headings are in a row and a column\n",
    "r1 = tab.excel_ref('B3').expand(RIGHT)\n",
    "r2 = tab.excel_ref('A3').fill(DOWN)\n",
    "\n",
    "# here we pass in a list containing two cell bags and get two colours\n",
    "savepreviewhtml([r1, r2])\n"
   ]
  },
  {
   "cell_type": "code",
   "execution_count": 13,
   "metadata": {
    "collapsed": false
   },
   "outputs": [
    {
     "data": {
      "text/html": [
       "<div id=\"injblock1005\">\n",
       "<style>\n",
       "table.ex, table.exkey { border: thin black solid }\n",
       "table.ex td, table.ex tr { border: none }\n",
       "table.ex td:hover { border: thin blue solid }\n",
       "table.ex td.excOBS:hover { border: thin red solid }\n",
       "table.ex td.selected { border: thick red solid }\n",
       "</style>\n",
       "\n",
       "\n",
       "<table class=\"exkey\">\n",
       "<tr><td class=\"xc1\" style=\"background-color:LightGreen\">Vehicles</td><td class=\"xc2\" style=\"background-color:MistyRose\">item 1</td></tr></table>\n",
       "\n",
       "<table class=\"ex\">\n",
       "<caption style=\"text-align:center; padding:0px; caption-side:bottom\">beatles</caption>\n",
       "<tr><td title=\"0 0\">Date</td><td title=\"1 0\">2014.0</td><td title=\"2 0\"></td><td title=\"3 0\"></td></tr>\n",
       "<tr><td title=\"0 1\"></td><td title=\"1 1\"></td><td title=\"2 1\"></td><td title=\"3 1\"></td></tr>\n",
       "<tr><td title=\"0 2\"></td><td style=\"background-color:LightGreen\" title=\"1 2\">Cars</td><td style=\"background-color:LightGreen;font-weight:bold\" title=\"2 2\">Planes</td><td style=\"background-color:LightGreen;font-weight:bold\" title=\"3 2\">Trains</td></tr>\n",
       "<tr><td title=\"0 3\">John</td><td title=\"1 3\">2.0</td><td title=\"2 3\">2.0</td><td title=\"3 3\">1.0</td></tr>\n",
       "<tr><td title=\"0 4\">Paul</td><td title=\"1 4\">4.0</td><td style=\"background-color:MistyRose\" title=\"2 4\">3.0</td><td title=\"3 4\">2.0</td></tr>\n",
       "<tr><td title=\"0 5\">Ringo</td><td title=\"1 5\">4.0</td><td title=\"2 5\">1.0</td><td title=\"3 5\">3.0</td></tr>\n",
       "<tr><td title=\"0 6\">George</td><td title=\"1 6\">2.0</td><td title=\"2 6\">5.0</td><td title=\"3 6\">5.0</td></tr>\n",
       "</table>\n",
       "\n",
       "</div>\n"
      ],
      "text/plain": [
       "<IPython.core.display.HTML object>"
      ]
     },
     "metadata": {},
     "output_type": "display_data"
    }
   ],
   "source": [
    "# HDim is made from a bag of cells, a name, and an instruction on how to look it up \n",
    "# from an observation cell.  \n",
    "h1 = HDim(r1, \"Vehicles\", DIRECTLY, ABOVE)\n",
    "\n",
    "# Here is an example cell\n",
    "cc = tab.excel_ref('C5')\n",
    "\n",
    "# You can preview a dimension as well as just a cell bag\n",
    "savepreviewhtml([h1, cc])\n"
   ]
  },
  {
   "cell_type": "code",
   "execution_count": 14,
   "metadata": {
    "collapsed": false
   },
   "outputs": [
    {
     "name": "stdout",
     "output_type": "stream",
     "text": [
      "Cell {<C5 3.0>} matches (<C3 'Planes'>, 'Planes') in dimension Vehicles\n"
     ]
    }
   ],
   "source": [
    "# !!! This is the important look-up stage from a cell into a dimension\n",
    "print(\"Cell\", cc, \"matches\", h1.cellvalobs(cc), \"in dimension\", h1.label)\n"
   ]
  },
  {
   "cell_type": "code",
   "execution_count": 15,
   "metadata": {
    "collapsed": false
   },
   "outputs": [
    {
     "name": "stdout",
     "output_type": "stream",
     "text": [
      "Obs {<B4 2.0>} maps to (<B3 'Cars'>, 'Cars')\n",
      "Obs {<C4 2.0>} maps to (<C3 'Planes'>, 'Planes')\n",
      "Obs {<D4 1.0>} maps to (<D3 'Trains'>, 'Trains')\n",
      "Obs {<B5 4.0>} maps to (<B3 'Cars'>, 'Cars')\n",
      "Obs {<C5 3.0>} maps to (<C3 'Planes'>, 'Planes')\n",
      "Obs {<D5 2.0>} maps to (<D3 'Trains'>, 'Trains')\n",
      "Obs {<B6 4.0>} maps to (<B3 'Cars'>, 'Cars')\n",
      "Obs {<C6 1.0>} maps to (<C3 'Planes'>, 'Planes')\n",
      "Obs {<D6 3.0>} maps to (<D3 'Trains'>, 'Trains')\n",
      "Obs {<B7 2.0>} maps to (<B3 'Cars'>, 'Cars')\n",
      "Obs {<C7 5.0>} maps to (<C3 'Planes'>, 'Planes')\n",
      "Obs {<D7 5.0>} maps to (<D3 'Trains'>, 'Trains')\n"
     ]
    }
   ],
   "source": [
    "# You can start to see through to the final result of all this work when you \n",
    "# print out the lookup values for every observation in the table at once.  \n",
    "for ob in obs:\n",
    "    print(\"Obs\", ob, \"maps to\", h1.cellvalobs(ob))"
   ]
  },
  {
   "cell_type": "markdown",
   "metadata": {},
   "source": [
    "**Note** the value of `h1.cellvalobs(ob)` is actually a pair composed of the heading cell and its value.  This is is because we can over-ride its output value without actually rewriting the original table, as we shall see.   \n"
   ]
  },
  {
   "cell_type": "code",
   "execution_count": 16,
   "metadata": {
    "collapsed": false
   },
   "outputs": [
    {
     "name": "stdout",
     "output_type": "stream",
     "text": [
      "Obs {<B4 2.0>} maps to (<B3 'Cars'>, 'Horses')\n",
      "Obs {<C4 2.0>} maps to (<C3 'Planes'>, 'Planes')\n",
      "Obs {<D4 1.0>} maps to (<D3 'Trains'>, 'Trains')\n",
      "Obs {<B5 4.0>} maps to (<B3 'Cars'>, 'Horses')\n",
      "Obs {<C5 3.0>} maps to (<C3 'Planes'>, 'Planes')\n",
      "Obs {<D5 2.0>} maps to (<D3 'Trains'>, 'Trains')\n",
      "Obs {<B6 4.0>} maps to (<B3 'Cars'>, 'Horses')\n",
      "Obs {<C6 1.0>} maps to (<C3 'Planes'>, 'Planes')\n",
      "Obs {<D6 3.0>} maps to (<D3 'Trains'>, 'Trains')\n",
      "Obs {<B7 2.0>} maps to (<B3 'Cars'>, 'Horses')\n",
      "Obs {<C7 5.0>} maps to (<C3 'Planes'>, 'Planes')\n",
      "Obs {<D7 5.0>} maps to (<D3 'Trains'>, 'Trains')\n"
     ]
    }
   ],
   "source": [
    "# You can change an output value like this:\n",
    "h1.AddCellValueOverride(\"Cars\", \"Horses\")\n",
    "\n",
    "for ob in obs:\n",
    "    print(\"Obs\", ob, \"maps to\", h1.cellvalobs(ob))"
   ]
  },
  {
   "cell_type": "code",
   "execution_count": 17,
   "metadata": {
    "collapsed": false
   },
   "outputs": [
    {
     "name": "stdout",
     "output_type": "stream",
     "text": [
      "Obs {<B4 2.0>} maps to (<B3 'Cars'>, 'Horses')\n",
      "Obs {<C4 2.0>} maps to (<C3 'Planes'>, 'Submarines')\n",
      "Obs {<D4 1.0>} maps to (<D3 'Trains'>, 'Trains')\n",
      "Obs {<B5 4.0>} maps to (<B3 'Cars'>, 'Horses')\n",
      "Obs {<C5 3.0>} maps to (<C3 'Planes'>, 'Submarines')\n",
      "Obs {<D5 2.0>} maps to (<D3 'Trains'>, 'Trains')\n",
      "Obs {<B6 4.0>} maps to (<B3 'Cars'>, 'Horses')\n",
      "Obs {<C6 1.0>} maps to (<C3 'Planes'>, 'Submarines')\n",
      "Obs {<D6 3.0>} maps to (<D3 'Trains'>, 'Trains')\n",
      "Obs {<B7 2.0>} maps to (<B3 'Cars'>, 'Horses')\n",
      "Obs {<C7 5.0>} maps to (<C3 'Planes'>, 'Submarines')\n",
      "Obs {<D7 5.0>} maps to (<D3 'Trains'>, 'Trains')\n"
     ]
    }
   ],
   "source": [
    "# Alternatively, you can override by the reference to a single cell to a value \n",
    "# (This will work even if the cell C3 is empty, which helps with filling in blank headings)\n",
    "h1.AddCellValueOverride(tab.excel_ref('C3'), \"Submarines\")\n",
    "for ob in obs:\n",
    "    print(\"Obs\", ob, \"maps to\", h1.cellvalobs(ob))"
   ]
  },
  {
   "cell_type": "code",
   "execution_count": 18,
   "metadata": {
    "collapsed": false
   },
   "outputs": [
    {
     "name": "stdout",
     "output_type": "stream",
     "text": [
      "Obs {<B4 2.0>} maps to (None, 'Clouds')\n",
      "Obs {<C4 2.0>} maps to (<C3 'Planes'>, 'Submarines')\n",
      "Obs {<D4 1.0>} maps to (<D3 'Trains'>, 'Trains')\n",
      "Obs {<B5 4.0>} maps to (<B4 2.0>, 'Clouds')\n",
      "Obs {<C5 3.0>} maps to (<C3 'Planes'>, 'Submarines')\n",
      "Obs {<D5 2.0>} maps to (<D3 'Trains'>, 'Trains')\n",
      "Obs {<B6 4.0>} maps to (<B4 2.0>, 'Clouds')\n",
      "Obs {<C6 1.0>} maps to (<C3 'Planes'>, 'Submarines')\n",
      "Obs {<D6 3.0>} maps to (<D3 'Trains'>, 'Trains')\n",
      "Obs {<B7 2.0>} maps to (<B4 2.0>, 'Clouds')\n",
      "Obs {<C7 5.0>} maps to (<C3 'Planes'>, 'Submarines')\n",
      "Obs {<D7 5.0>} maps to (<D3 'Trains'>, 'Trains')\n"
     ]
    }
   ],
   "source": [
    "# You can override the header value for an individual observation element.  \n",
    "b4cell = tab.excel_ref('B4')\n",
    "h1.AddCellValueOverride(b4cell, \"Clouds\")\n",
    "for ob in obs:\n",
    "    print(\"Obs\", ob, \"maps to\", h1.cellvalobs(ob))"
   ]
  },
  {
   "cell_type": "code",
   "execution_count": 19,
   "metadata": {
    "collapsed": false
   },
   "outputs": [
    {
     "data": {
      "text/html": [
       "<div id=\"injblock1006\">\n",
       "<style>\n",
       "table.ex, table.exkey { border: thin black solid }\n",
       "table.ex td, table.ex tr { border: none }\n",
       "table.ex td:hover { border: thin blue solid }\n",
       "table.ex td.excOBS:hover { border: thin red solid }\n",
       "table.ex td.selected { border: thick red solid }\n",
       "</style>\n",
       "\n",
       "\n",
       "<table class=\"exkey\">\n",
       "<tr><td class=\"xc1\" style=\"background-color:LightGreen\">Vehicles</td><td class=\"xc2\" style=\"background-color:MistyRose\">item 1</td></tr></table>\n",
       "\n",
       "<table class=\"ex\">\n",
       "<caption style=\"text-align:center; padding:0px; caption-side:bottom\">beatles</caption>\n",
       "<tr><td title=\"0 0\">Date</td><td title=\"1 0\">2014.0</td><td title=\"2 0\"></td><td title=\"3 0\"></td></tr>\n",
       "<tr><td title=\"0 1\"></td><td title=\"1 1\"></td><td title=\"2 1\"></td><td title=\"3 1\"></td></tr>\n",
       "<tr><td title=\"0 2\"></td><td style=\"background-color:LightGreen\" title=\"1 2\"><strike>Cars</strike>Horses</td><td style=\"background-color:LightGreen;font-weight:bold\" title=\"2 2\"><strike>Planes</strike>Submarines</td><td style=\"background-color:LightGreen;font-weight:bold\" title=\"3 2\">Trains</td></tr>\n",
       "<tr><td title=\"0 3\">John</td><td style=\"background-color:MistyRose\" title=\"1 3\"><strike>2.0</strike>Clouds</td><td style=\"background-color:MistyRose\" title=\"2 3\">2.0</td><td style=\"background-color:MistyRose\" title=\"3 3\">1.0</td></tr>\n",
       "<tr><td title=\"0 4\">Paul</td><td style=\"background-color:MistyRose\" title=\"1 4\">4.0</td><td style=\"background-color:MistyRose\" title=\"2 4\">3.0</td><td style=\"background-color:MistyRose\" title=\"3 4\">2.0</td></tr>\n",
       "<tr><td title=\"0 5\">Ringo</td><td style=\"background-color:MistyRose\" title=\"1 5\">4.0</td><td style=\"background-color:MistyRose\" title=\"2 5\">1.0</td><td style=\"background-color:MistyRose\" title=\"3 5\">3.0</td></tr>\n",
       "<tr><td title=\"0 6\">George</td><td style=\"background-color:MistyRose\" title=\"1 6\">2.0</td><td style=\"background-color:MistyRose\" title=\"2 6\">5.0</td><td style=\"background-color:MistyRose\" title=\"3 6\">5.0</td></tr>\n",
       "</table>\n",
       "\n",
       "</div>\n"
      ],
      "text/plain": [
       "<IPython.core.display.HTML object>"
      ]
     },
     "metadata": {},
     "output_type": "display_data"
    }
   ],
   "source": [
    "# The preview table shows how things have changed\n",
    "savepreviewhtml([h1, obs])"
   ]
  },
  {
   "cell_type": "code",
   "execution_count": 20,
   "metadata": {
    "collapsed": false
   },
   "outputs": [
    {
     "name": "stdout",
     "output_type": "stream",
     "text": [
      "Wrong-Obs {<A1 'Date'>} maps to (None, None)  <--- ie Nothing\n"
     ]
    }
   ],
   "source": [
    "wob = tab.excel_ref('A1')\n",
    "print(\"Wrong-Obs\", wob, \"maps to\", h1.cellvalobs(wob), \" <--- ie Nothing\")\n"
   ]
  },
  {
   "cell_type": "code",
   "execution_count": 21,
   "metadata": {
    "collapsed": false
   },
   "outputs": [
    {
     "name": "stdout",
     "output_type": "stream",
     "text": [
      "After giving a default value Wrong-Obs {<A1 'Date'>} now maps to (None, 'Who knows?')\n"
     ]
    }
   ],
   "source": [
    "h1.AddCellValueOverride(None, \"Who knows?\")\n",
    "print(\"After giving a default value Wrong-Obs\", wob, \"now maps to\", h1.cellvalobs(wob))"
   ]
  },
  {
   "cell_type": "code",
   "execution_count": 22,
   "metadata": {
    "collapsed": false
   },
   "outputs": [
    {
     "name": "stdout",
     "output_type": "stream",
     "text": [
      "Obs {<B4 2.0>} maps to (None, 'Beatles')\n",
      "Obs {<C4 2.0>} maps to (None, 'Beatles')\n",
      "Obs {<D4 1.0>} maps to (None, 'Beatles')\n",
      "Obs {<B5 4.0>} maps to (None, 'Beatles')\n",
      "Obs {<C5 3.0>} maps to (None, 'Beatles')\n",
      "Obs {<D5 2.0>} maps to (None, 'Beatles')\n",
      "Obs {<B6 4.0>} maps to (None, 'Beatles')\n",
      "Obs {<C6 1.0>} maps to (None, 'Beatles')\n",
      "Obs {<D6 3.0>} maps to (None, 'Beatles')\n",
      "Obs {<B7 2.0>} maps to (None, 'Beatles')\n",
      "Obs {<C7 5.0>} maps to (None, 'Beatles')\n",
      "Obs {<D7 5.0>} maps to (None, 'Beatles')\n"
     ]
    }
   ],
   "source": [
    "# The default even works if the cell bag set is empty.  In which case we have a special \n",
    "# constant case that maps every observation to the same value\n",
    "h3 = HDimConst(\"Category\", \"Beatles\")\n",
    "for ob in obs:\n",
    "    print(\"Obs\", ob, \"maps to\", h3.cellvalobs(ob))"
   ]
  },
  {
   "cell_type": "markdown",
   "metadata": {},
   "source": [
    "# Conversion segments and output\n",
    "A ConversionSegment is a collection of Dimensions with an Observation set that is going to be processed and output as a table all at once.\n",
    "\n",
    "You can preview them in HTML (just like the cell bags and dimensions), only this time the observation cells can be clicked on interactively to show how they look up.  "
   ]
  },
  {
   "cell_type": "code",
   "execution_count": 23,
   "metadata": {
    "collapsed": false
   },
   "outputs": [
    {
     "data": {
      "text/html": [
       "<div id=\"injblock1007\">\n",
       "<style>\n",
       "table.ex, table.exkey { border: thin black solid }\n",
       "table.ex td, table.ex tr { border: none }\n",
       "table.ex td:hover { border: thin blue solid }\n",
       "table.ex td.excOBS:hover { border: thin red solid }\n",
       "table.ex td.selected { border: thick red solid }\n",
       "</style>\n",
       "\n",
       "\n",
       "<table class=\"exkey\">\n",
       "<tr><td class=\"xc0\" style=\"background-color:Aqua\">OBS</td><td class=\"xc1\" style=\"background-color:LightGreen\">TIME</td><td class=\"xc2\" style=\"background-color:MistyRose\">Vehicles</td><td class=\"xc3\" style=\"background-color:LightGray\">Name</td></tr></table>\n",
       "\n",
       "<table class=\"ex\">\n",
       "<caption style=\"text-align:center; padding:0px; caption-side:bottom\">beatles</caption>\n",
       "<tr><td title=\"0 0\">Date</td><td style=\"background-color:LightGreen\" title=\"1 0\">2014.0</td><td title=\"2 0\"></td><td title=\"3 0\"></td></tr>\n",
       "<tr><td title=\"0 1\"></td><td title=\"1 1\"></td><td title=\"2 1\"></td><td title=\"3 1\"></td></tr>\n",
       "<tr><td title=\"0 2\"></td><td style=\"background-color:MistyRose\" title=\"1 2\">Cars</td><td style=\"background-color:MistyRose;font-weight:bold\" title=\"2 2\">Planes</td><td style=\"background-color:MistyRose;font-weight:bold\" title=\"3 2\">Trains</td></tr>\n",
       "<tr><td style=\"background-color:LightGray\" title=\"0 3\">John</td><td style=\"background-color:Aqua\" title=\"1 3\">2.0</td><td style=\"background-color:Aqua\" title=\"2 3\">2.0</td><td style=\"background-color:Aqua\" title=\"3 3\">1.0</td></tr>\n",
       "<tr><td style=\"background-color:LightGray\" title=\"0 4\">Paul</td><td style=\"background-color:Aqua\" title=\"1 4\">4.0</td><td style=\"background-color:Aqua\" title=\"2 4\">3.0</td><td style=\"background-color:Aqua\" title=\"3 4\">2.0</td></tr>\n",
       "<tr><td style=\"background-color:LightGray\" title=\"0 5\">Ringo</td><td style=\"background-color:Aqua\" title=\"1 5\">4.0</td><td style=\"background-color:Aqua\" title=\"2 5\">1.0</td><td style=\"background-color:Aqua\" title=\"3 5\">3.0</td></tr>\n",
       "<tr><td style=\"background-color:LightGray\" title=\"0 6\">George</td><td style=\"background-color:Aqua\" title=\"1 6\">2.0</td><td style=\"background-color:Aqua\" title=\"2 6\">5.0</td><td style=\"background-color:Aqua\" title=\"3 6\">5.0</td></tr>\n",
       "</table>\n",
       "\n",
       "</div>\n",
       "\n",
       "<script>\n",
       "var jslookup = {\"2 3\":[1,0,2,2,0,3],\"2 6\":[1,0,2,2,0,6],\"2 5\":[1,0,2,2,0,5],\"1 3\":[1,0,1,2,0,3],\"3 6\":[1,0,3,2,0,6],\"1 6\":[1,0,1,2,0,6],\"3 3\":[1,0,3,2,0,3],\"1 4\":[1,0,1,2,0,4],\"3 5\":[1,0,3,2,0,5],\"2 4\":[1,0,2,2,0,4],\"1 5\":[1,0,1,2,0,5],\"3 4\":[1,0,3,2,0,4]}; \n",
       "var jdividNUM = \"injblock1007\"; \n",
       "var Dclickedcell = null; \n",
       "function clickedcell() \n",
       "{ \n",
       "    Dclickedcell = this; \n",
       "    console.log(\"jjjj\", this); \n",
       "    var rgc = new RegExp('(^|\\b)' + \"selected\".split(' ').join('|') + '(\\b|$)', 'gi'); \n",
       "    Array.prototype.forEach.call(document.querySelectorAll(\"div#\"+jdividNUM+\" table.ex td.selected\"), function(el, i) { \n",
       "        if (el.classList)  el.classList.remove(\"selected\");\n",
       "        else  el.className = el.className.replace(rgc, ' ');\n",
       "    }); \n",
       "    if (this.classList)  this.classList.add(\"selected\");\n",
       "    else this.className += ' ' + \"selected\";\n",
       "\n",
       "    var dimpairs = jslookup[this.title]; \n",
       "    if (dimpairs !== undefined) {\n",
       "        for (var i = 1; i < dimpairs.length; i += 2) {\n",
       "            var row = document.querySelectorAll(\"div#\"+jdividNUM+\" table.ex tr\")[dimpairs[i]]; \n",
       "            var el = row.querySelectorAll(\"td\")[dimpairs[i-1]]; \n",
       "            if (el.classList)  el.classList.add(\"selected\");\n",
       "            else el.className += ' ' + \"selected\";\n",
       "        }\n",
       "    }\n",
       "}\n",
       "Array.prototype.forEach.call(document.querySelectorAll(\"div#\"+jdividNUM+\" table.ex td\"), function(item, i) { item.onclick=clickedcell; }); \n",
       "</script>\n"
      ],
      "text/plain": [
       "<IPython.core.display.HTML object>"
      ]
     },
     "metadata": {},
     "output_type": "display_data"
    }
   ],
   "source": [
    "\n",
    "dimensions = [ \n",
    "    HDim(tab.excel_ref('B1'), TIME, CLOSEST, ABOVE), \n",
    "    HDim(r1, \"Vehicles\", DIRECTLY, ABOVE), \n",
    "    HDim(r2, \"Name\", DIRECTLY, LEFT), \n",
    "    HDimConst(\"Category\", \"Beatles\")\n",
    "]\n",
    "\n",
    "c1 = ConversionSegment(obs, dimensions, processtimeunit=False)\n",
    "savepreviewhtml(c1)\n"
   ]
  },
  {
   "cell_type": "code",
   "execution_count": 24,
   "metadata": {
    "collapsed": false
   },
   "outputs": [
    {
     "name": "stdout",
     "output_type": "stream",
     "text": [
      "Looking up all the observations against all the dimensions and print them out\n",
      "{'Vehicles': 'Cars', 'Category': 'Beatles', 'OBS': 2.0, 'TIME': '2014.0', 'Name': 'John'}\n",
      "{'Vehicles': 'Planes', 'Category': 'Beatles', 'OBS': 2.0, 'TIME': '2014.0', 'Name': 'John'}\n",
      "{'Vehicles': 'Trains', 'Category': 'Beatles', 'OBS': 1.0, 'TIME': '2014.0', 'Name': 'John'}\n",
      "{'Vehicles': 'Cars', 'Category': 'Beatles', 'OBS': 4.0, 'TIME': '2014.0', 'Name': 'Paul'}\n",
      "{'Vehicles': 'Planes', 'Category': 'Beatles', 'OBS': 3.0, 'TIME': '2014.0', 'Name': 'Paul'}\n",
      "{'Vehicles': 'Trains', 'Category': 'Beatles', 'OBS': 2.0, 'TIME': '2014.0', 'Name': 'Paul'}\n",
      "{'Vehicles': 'Cars', 'Category': 'Beatles', 'OBS': 4.0, 'TIME': '2014.0', 'Name': 'Ringo'}\n",
      "{'Vehicles': 'Planes', 'Category': 'Beatles', 'OBS': 1.0, 'TIME': '2014.0', 'Name': 'Ringo'}\n",
      "{'Vehicles': 'Trains', 'Category': 'Beatles', 'OBS': 3.0, 'TIME': '2014.0', 'Name': 'Ringo'}\n",
      "{'Vehicles': 'Cars', 'Category': 'Beatles', 'OBS': 2.0, 'TIME': '2014.0', 'Name': 'George'}\n",
      "{'Vehicles': 'Planes', 'Category': 'Beatles', 'OBS': 5.0, 'TIME': '2014.0', 'Name': 'George'}\n",
      "{'Vehicles': 'Trains', 'Category': 'Beatles', 'OBS': 5.0, 'TIME': '2014.0', 'Name': 'George'}\n"
     ]
    }
   ],
   "source": [
    "print(\"Looking up all the observations against all the dimensions and print them out\")\n",
    "for ob in c1.segment:\n",
    "    print(c1.lookupobs(ob))"
   ]
  },
  {
   "cell_type": "code",
   "execution_count": 25,
   "metadata": {
    "collapsed": false
   },
   "outputs": [
    {
     "name": "stdout",
     "output_type": "stream",
     "text": [
      "\n"
     ]
    },
    {
     "data": {
      "text/html": [
       "<div>\n",
       "<table border=\"1\" class=\"dataframe\">\n",
       "  <thead>\n",
       "    <tr style=\"text-align: right;\">\n",
       "      <th></th>\n",
       "      <th>OBS</th>\n",
       "      <th>TIME</th>\n",
       "      <th>Vehicles</th>\n",
       "      <th>Name</th>\n",
       "      <th>Category</th>\n",
       "    </tr>\n",
       "  </thead>\n",
       "  <tbody>\n",
       "    <tr>\n",
       "      <th>0</th>\n",
       "      <td>2.0</td>\n",
       "      <td>2014.0</td>\n",
       "      <td>Cars</td>\n",
       "      <td>John</td>\n",
       "      <td>Beatles</td>\n",
       "    </tr>\n",
       "    <tr>\n",
       "      <th>1</th>\n",
       "      <td>2.0</td>\n",
       "      <td>2014.0</td>\n",
       "      <td>Planes</td>\n",
       "      <td>John</td>\n",
       "      <td>Beatles</td>\n",
       "    </tr>\n",
       "    <tr>\n",
       "      <th>2</th>\n",
       "      <td>1.0</td>\n",
       "      <td>2014.0</td>\n",
       "      <td>Trains</td>\n",
       "      <td>John</td>\n",
       "      <td>Beatles</td>\n",
       "    </tr>\n",
       "    <tr>\n",
       "      <th>3</th>\n",
       "      <td>4.0</td>\n",
       "      <td>2014.0</td>\n",
       "      <td>Cars</td>\n",
       "      <td>Paul</td>\n",
       "      <td>Beatles</td>\n",
       "    </tr>\n",
       "    <tr>\n",
       "      <th>4</th>\n",
       "      <td>3.0</td>\n",
       "      <td>2014.0</td>\n",
       "      <td>Planes</td>\n",
       "      <td>Paul</td>\n",
       "      <td>Beatles</td>\n",
       "    </tr>\n",
       "    <tr>\n",
       "      <th>5</th>\n",
       "      <td>2.0</td>\n",
       "      <td>2014.0</td>\n",
       "      <td>Trains</td>\n",
       "      <td>Paul</td>\n",
       "      <td>Beatles</td>\n",
       "    </tr>\n",
       "    <tr>\n",
       "      <th>6</th>\n",
       "      <td>4.0</td>\n",
       "      <td>2014.0</td>\n",
       "      <td>Cars</td>\n",
       "      <td>Ringo</td>\n",
       "      <td>Beatles</td>\n",
       "    </tr>\n",
       "    <tr>\n",
       "      <th>7</th>\n",
       "      <td>1.0</td>\n",
       "      <td>2014.0</td>\n",
       "      <td>Planes</td>\n",
       "      <td>Ringo</td>\n",
       "      <td>Beatles</td>\n",
       "    </tr>\n",
       "    <tr>\n",
       "      <th>8</th>\n",
       "      <td>3.0</td>\n",
       "      <td>2014.0</td>\n",
       "      <td>Trains</td>\n",
       "      <td>Ringo</td>\n",
       "      <td>Beatles</td>\n",
       "    </tr>\n",
       "    <tr>\n",
       "      <th>9</th>\n",
       "      <td>2.0</td>\n",
       "      <td>2014.0</td>\n",
       "      <td>Cars</td>\n",
       "      <td>George</td>\n",
       "      <td>Beatles</td>\n",
       "    </tr>\n",
       "    <tr>\n",
       "      <th>10</th>\n",
       "      <td>5.0</td>\n",
       "      <td>2014.0</td>\n",
       "      <td>Planes</td>\n",
       "      <td>George</td>\n",
       "      <td>Beatles</td>\n",
       "    </tr>\n",
       "    <tr>\n",
       "      <th>11</th>\n",
       "      <td>5.0</td>\n",
       "      <td>2014.0</td>\n",
       "      <td>Trains</td>\n",
       "      <td>George</td>\n",
       "      <td>Beatles</td>\n",
       "    </tr>\n",
       "  </tbody>\n",
       "</table>\n",
       "</div>"
      ],
      "text/plain": [
       "    OBS    TIME Vehicles    Name Category\n",
       "0   2.0  2014.0     Cars    John  Beatles\n",
       "1   2.0  2014.0   Planes    John  Beatles\n",
       "2   1.0  2014.0   Trains    John  Beatles\n",
       "3   4.0  2014.0     Cars    Paul  Beatles\n",
       "4   3.0  2014.0   Planes    Paul  Beatles\n",
       "5   2.0  2014.0   Trains    Paul  Beatles\n",
       "6   4.0  2014.0     Cars   Ringo  Beatles\n",
       "7   1.0  2014.0   Planes   Ringo  Beatles\n",
       "8   3.0  2014.0   Trains   Ringo  Beatles\n",
       "9   2.0  2014.0     Cars  George  Beatles\n",
       "10  5.0  2014.0   Planes  George  Beatles\n",
       "11  5.0  2014.0   Trains  George  Beatles"
      ]
     },
     "execution_count": 25,
     "metadata": {},
     "output_type": "execute_result"
    }
   ],
   "source": [
    "df = c1.topandas()\n",
    "df"
   ]
  },
  {
   "cell_type": "markdown",
   "metadata": {},
   "source": [
    "# WDA Technical CSV\n",
    "The ONS uses a special internal system for publishing their time-series data known as WDA.  \n",
    "\n",
    "If you don't use it, then stop here, because everything you can do can be made from pandas.  \n",
    "\n",
    "Here's a demonstration of how the technicalCSV works.   "
   ]
  },
  {
   "cell_type": "code",
   "execution_count": 26,
   "metadata": {
    "collapsed": false
   },
   "outputs": [
    {
     "name": "stdout",
     "output_type": "stream",
     "text": [
      "\n",
      "writing 1 conversion segments into /home/goatchurch/sensiblecode/src/databaker/databaker/tutorial/example.csv\n",
      "conversionwrite segment size 12 table 'beatles'; \n"
     ]
    },
    {
     "data": {
      "text/html": [
       "<div>\n",
       "<table border=\"1\" class=\"dataframe\">\n",
       "  <thead>\n",
       "    <tr style=\"text-align: right;\">\n",
       "      <th></th>\n",
       "      <th>OBS</th>\n",
       "      <th>TIME</th>\n",
       "      <th>Vehicles</th>\n",
       "      <th>Name</th>\n",
       "      <th>Category</th>\n",
       "    </tr>\n",
       "  </thead>\n",
       "  <tbody>\n",
       "    <tr>\n",
       "      <th>0</th>\n",
       "      <td>2.0</td>\n",
       "      <td>2014.0</td>\n",
       "      <td>Cars</td>\n",
       "      <td>John</td>\n",
       "      <td>Beatles</td>\n",
       "    </tr>\n",
       "    <tr>\n",
       "      <th>1</th>\n",
       "      <td>2.0</td>\n",
       "      <td>2014.0</td>\n",
       "      <td>Planes</td>\n",
       "      <td>John</td>\n",
       "      <td>Beatles</td>\n",
       "    </tr>\n",
       "    <tr>\n",
       "      <th>2</th>\n",
       "      <td>1.0</td>\n",
       "      <td>2014.0</td>\n",
       "      <td>Trains</td>\n",
       "      <td>John</td>\n",
       "      <td>Beatles</td>\n",
       "    </tr>\n",
       "    <tr>\n",
       "      <th>3</th>\n",
       "      <td>4.0</td>\n",
       "      <td>2014.0</td>\n",
       "      <td>Cars</td>\n",
       "      <td>Paul</td>\n",
       "      <td>Beatles</td>\n",
       "    </tr>\n",
       "    <tr>\n",
       "      <th>4</th>\n",
       "      <td>3.0</td>\n",
       "      <td>2014.0</td>\n",
       "      <td>Planes</td>\n",
       "      <td>Paul</td>\n",
       "      <td>Beatles</td>\n",
       "    </tr>\n",
       "    <tr>\n",
       "      <th>5</th>\n",
       "      <td>2.0</td>\n",
       "      <td>2014.0</td>\n",
       "      <td>Trains</td>\n",
       "      <td>Paul</td>\n",
       "      <td>Beatles</td>\n",
       "    </tr>\n",
       "    <tr>\n",
       "      <th>6</th>\n",
       "      <td>4.0</td>\n",
       "      <td>2014.0</td>\n",
       "      <td>Cars</td>\n",
       "      <td>Ringo</td>\n",
       "      <td>Beatles</td>\n",
       "    </tr>\n",
       "    <tr>\n",
       "      <th>7</th>\n",
       "      <td>1.0</td>\n",
       "      <td>2014.0</td>\n",
       "      <td>Planes</td>\n",
       "      <td>Ringo</td>\n",
       "      <td>Beatles</td>\n",
       "    </tr>\n",
       "    <tr>\n",
       "      <th>8</th>\n",
       "      <td>3.0</td>\n",
       "      <td>2014.0</td>\n",
       "      <td>Trains</td>\n",
       "      <td>Ringo</td>\n",
       "      <td>Beatles</td>\n",
       "    </tr>\n",
       "    <tr>\n",
       "      <th>9</th>\n",
       "      <td>2.0</td>\n",
       "      <td>2014.0</td>\n",
       "      <td>Cars</td>\n",
       "      <td>George</td>\n",
       "      <td>Beatles</td>\n",
       "    </tr>\n",
       "    <tr>\n",
       "      <th>10</th>\n",
       "      <td>5.0</td>\n",
       "      <td>2014.0</td>\n",
       "      <td>Planes</td>\n",
       "      <td>George</td>\n",
       "      <td>Beatles</td>\n",
       "    </tr>\n",
       "    <tr>\n",
       "      <th>11</th>\n",
       "      <td>5.0</td>\n",
       "      <td>2014.0</td>\n",
       "      <td>Trains</td>\n",
       "      <td>George</td>\n",
       "      <td>Beatles</td>\n",
       "    </tr>\n",
       "  </tbody>\n",
       "</table>\n",
       "</div>"
      ],
      "text/plain": [
       "    OBS    TIME Vehicles    Name Category\n",
       "0   2.0  2014.0     Cars    John  Beatles\n",
       "1   2.0  2014.0   Planes    John  Beatles\n",
       "2   1.0  2014.0   Trains    John  Beatles\n",
       "3   4.0  2014.0     Cars    Paul  Beatles\n",
       "4   3.0  2014.0   Planes    Paul  Beatles\n",
       "5   2.0  2014.0   Trains    Paul  Beatles\n",
       "6   4.0  2014.0     Cars   Ringo  Beatles\n",
       "7   1.0  2014.0   Planes   Ringo  Beatles\n",
       "8   3.0  2014.0   Trains   Ringo  Beatles\n",
       "9   2.0  2014.0     Cars  George  Beatles\n",
       "10  5.0  2014.0   Planes  George  Beatles\n",
       "11  5.0  2014.0   Trains  George  Beatles"
      ]
     },
     "execution_count": 26,
     "metadata": {},
     "output_type": "execute_result"
    }
   ],
   "source": [
    "# Once we are done with the lookups, we can generate the technicalCSV for the WDA system\n",
    "pL = c1.topandas()a\n",
    "L = writetechnicalCSV(None, c1).split(\"\\n\")\n",
    "#print(L)\n",
    "Lp = writetechnicalCSV(None, pL).split(\"\\n\")\n",
    "L == Lp\n",
    "writetechnicalCSV(\"example.csv\", c1)\n",
    "k = readtechnicalCSV(\"example.csv\")\n",
    "k[0]\n",
    "pL"
   ]
  },
  {
   "cell_type": "code",
   "execution_count": 29,
   "metadata": {
    "collapsed": false
   },
   "outputs": [
    {
     "name": "stdout",
     "output_type": "stream",
     "text": [
      "writing 1 conversion segments into /home/goatchurch/sensiblecode/src/databaker/databaker/tutorial/example.csv\n",
      "conversionwrite segment size 12 table 'beatles'; \n"
     ]
    }
   ],
   "source": [
    "# We almost always write this output to a file because the preview is so big and ugly\n",
    "# You can replace the c1 with a list of ConversionSegments\n",
    "writetechnicalCSV(\"example.csv\", c1)\n",
    "\n",
    "\n"
   ]
  },
  {
   "cell_type": "code",
   "execution_count": 30,
   "metadata": {
    "collapsed": false
   },
   "outputs": [
    {
     "name": "stdout",
     "output_type": "stream",
     "text": [
      "tablepart 'beatles' written #injblock1008\n",
      "javascript calculated\n"
     ]
    },
    {
     "data": {
      "text/html": [
       "Written to file: <a href='preview.html' target='_blank'>preview.html</a><br>"
      ],
      "text/plain": [
       "/home/goatchurch/sensiblecode/src/databaker/databaker/tutorial/preview.html"
      ]
     },
     "metadata": {},
     "output_type": "display_data"
    }
   ],
   "source": [
    "# You can save preview tables to a file as well, but it can only be of a single segment\n",
    "# The #injblockXXXX thing is shown at the top of the file to help you make sure you are seeing\n",
    "# the right preview, and not some earlier version.  \n",
    "# (We'd like to make the link work, but it's difficult.  Also it would be nice if the page \n",
    "# you had automatically reloaded itself if it was already open, in order to cut down on the RSI)\n",
    "savepreviewhtml(c1, \"preview.html\")"
   ]
  },
  {
   "cell_type": "code",
   "execution_count": 31,
   "metadata": {
    "collapsed": false
   },
   "outputs": [
    {
     "name": "stdout",
     "output_type": "stream",
     "text": [
      "TIMEUNIT='Year'\n"
     ]
    },
    {
     "data": {
      "text/html": [
       "<div>\n",
       "<table border=\"1\" class=\"dataframe\">\n",
       "  <thead>\n",
       "    <tr style=\"text-align: right;\">\n",
       "      <th></th>\n",
       "      <th>OBS</th>\n",
       "      <th>TIME</th>\n",
       "      <th>TIMEUNIT</th>\n",
       "      <th>Vehicles</th>\n",
       "      <th>Name</th>\n",
       "      <th>Category</th>\n",
       "    </tr>\n",
       "  </thead>\n",
       "  <tbody>\n",
       "    <tr>\n",
       "      <th>0</th>\n",
       "      <td>1.0</td>\n",
       "      <td>2014</td>\n",
       "      <td>Year</td>\n",
       "      <td>Planes</td>\n",
       "      <td>Ringo</td>\n",
       "      <td>Beatles</td>\n",
       "    </tr>\n",
       "    <tr>\n",
       "      <th>1</th>\n",
       "      <td>1.0</td>\n",
       "      <td>2014</td>\n",
       "      <td>Year</td>\n",
       "      <td>Trains</td>\n",
       "      <td>John</td>\n",
       "      <td>Beatles</td>\n",
       "    </tr>\n",
       "    <tr>\n",
       "      <th>2</th>\n",
       "      <td>2.0</td>\n",
       "      <td>2014</td>\n",
       "      <td>Year</td>\n",
       "      <td>Planes</td>\n",
       "      <td>John</td>\n",
       "      <td>Beatles</td>\n",
       "    </tr>\n",
       "    <tr>\n",
       "      <th>3</th>\n",
       "      <td>2.0</td>\n",
       "      <td>2014</td>\n",
       "      <td>Year</td>\n",
       "      <td>Cars</td>\n",
       "      <td>John</td>\n",
       "      <td>Beatles</td>\n",
       "    </tr>\n",
       "    <tr>\n",
       "      <th>4</th>\n",
       "      <td>2.0</td>\n",
       "      <td>2014</td>\n",
       "      <td>Year</td>\n",
       "      <td>Cars</td>\n",
       "      <td>George</td>\n",
       "      <td>Beatles</td>\n",
       "    </tr>\n",
       "    <tr>\n",
       "      <th>5</th>\n",
       "      <td>2.0</td>\n",
       "      <td>2014</td>\n",
       "      <td>Year</td>\n",
       "      <td>Trains</td>\n",
       "      <td>Paul</td>\n",
       "      <td>Beatles</td>\n",
       "    </tr>\n",
       "    <tr>\n",
       "      <th>6</th>\n",
       "      <td>3.0</td>\n",
       "      <td>2014</td>\n",
       "      <td>Year</td>\n",
       "      <td>Trains</td>\n",
       "      <td>Ringo</td>\n",
       "      <td>Beatles</td>\n",
       "    </tr>\n",
       "    <tr>\n",
       "      <th>7</th>\n",
       "      <td>3.0</td>\n",
       "      <td>2014</td>\n",
       "      <td>Year</td>\n",
       "      <td>Planes</td>\n",
       "      <td>Paul</td>\n",
       "      <td>Beatles</td>\n",
       "    </tr>\n",
       "    <tr>\n",
       "      <th>8</th>\n",
       "      <td>4.0</td>\n",
       "      <td>2014</td>\n",
       "      <td>Year</td>\n",
       "      <td>Cars</td>\n",
       "      <td>Paul</td>\n",
       "      <td>Beatles</td>\n",
       "    </tr>\n",
       "    <tr>\n",
       "      <th>9</th>\n",
       "      <td>4.0</td>\n",
       "      <td>2014</td>\n",
       "      <td>Year</td>\n",
       "      <td>Cars</td>\n",
       "      <td>Ringo</td>\n",
       "      <td>Beatles</td>\n",
       "    </tr>\n",
       "    <tr>\n",
       "      <th>10</th>\n",
       "      <td>5.0</td>\n",
       "      <td>2014</td>\n",
       "      <td>Year</td>\n",
       "      <td>Planes</td>\n",
       "      <td>George</td>\n",
       "      <td>Beatles</td>\n",
       "    </tr>\n",
       "    <tr>\n",
       "      <th>11</th>\n",
       "      <td>5.0</td>\n",
       "      <td>2014</td>\n",
       "      <td>Year</td>\n",
       "      <td>Trains</td>\n",
       "      <td>George</td>\n",
       "      <td>Beatles</td>\n",
       "    </tr>\n",
       "  </tbody>\n",
       "</table>\n",
       "</div>"
      ],
      "text/plain": [
       "    OBS  TIME TIMEUNIT Vehicles    Name Category\n",
       "0   1.0  2014     Year   Planes   Ringo  Beatles\n",
       "1   1.0  2014     Year   Trains    John  Beatles\n",
       "2   2.0  2014     Year   Planes    John  Beatles\n",
       "3   2.0  2014     Year     Cars    John  Beatles\n",
       "4   2.0  2014     Year     Cars  George  Beatles\n",
       "5   2.0  2014     Year   Trains    Paul  Beatles\n",
       "6   3.0  2014     Year   Trains   Ringo  Beatles\n",
       "7   3.0  2014     Year   Planes    Paul  Beatles\n",
       "8   4.0  2014     Year     Cars    Paul  Beatles\n",
       "9   4.0  2014     Year     Cars   Ringo  Beatles\n",
       "10  5.0  2014     Year   Planes  George  Beatles\n",
       "11  5.0  2014     Year   Trains  George  Beatles"
      ]
     },
     "execution_count": 31,
     "metadata": {},
     "output_type": "execute_result"
    }
   ],
   "source": [
    "# In summary, we have the capability of codelookups and nolookups with the cellvalueoverride dict\n",
    "# We can look at individual observations and filter them.  \n",
    "# You can also use a list instead of a bag when you make a conversion set, \n",
    "# and then sort that list\n",
    "\n",
    "obslist = list(obs.unordered_cells)  # list(segment) otherwise gives bags of one element\n",
    "obslist.sort(key=lambda cell: str(cell.value))\n",
    "c2 = ConversionSegment(tab, dimensions, obslist)\n",
    "c2.topandas()\n"
   ]
  },
  {
   "cell_type": "code",
   "execution_count": 32,
   "metadata": {
    "collapsed": true
   },
   "outputs": [],
   "source": [
    "# It's also obvious to see how to make load in multiple spreadsheets\n",
    "# as well as output multiple files, by making multiple calls to\n",
    "#    loadxlstabs(inputfilename)\n",
    "#    writetechnicalCSV(outputfilename, [selected list of segments])\n",
    "# with all the HDim, HDimConst and ConversionSegment creation stuff \n",
    "# in between.  \n",
    "\n",
    "# But it's going to take some working out of conventions and habits \n",
    "# in order to avoid getting into a mess.  \n",
    "\n",
    "# The main part of the design is to make it easy to preview what's going \n",
    "# on at every step of the way, which means you'll want to load everything \n",
    "# in at the start, and save everything out at the end.\n",
    "\n",
    "# Unfortunately this is very memory intensive and might not work on the \n",
    "# largest sets of files.  However, a working system that is close to \n",
    "# that as possible is desirable, to avoid producing \"efficient pipelines\" \n",
    "# of data processing that are going to be a right pain to debug when you \n",
    "# come back to it.  "
   ]
  },
  {
   "cell_type": "markdown",
   "metadata": {
    "collapsed": true
   },
   "source": [
    "If you like, proceed to [Tutorial 2.5](tutorial2.5.ipynb)."
   ]
  },
  {
   "cell_type": "code",
   "execution_count": null,
   "metadata": {
    "collapsed": true
   },
   "outputs": [],
   "source": []
  }
 ],
 "metadata": {
  "kernelspec": {
   "display_name": "Python 3",
   "language": "python",
   "name": "python3"
  },
  "language_info": {
   "codemirror_mode": {
    "name": "ipython",
    "version": 3
   },
   "file_extension": ".py",
   "mimetype": "text/x-python",
   "name": "python",
   "nbconvert_exporter": "python",
   "pygments_lexer": "ipython3",
   "version": "3.5.2"
  }
 },
 "nbformat": 4,
 "nbformat_minor": 1
}
